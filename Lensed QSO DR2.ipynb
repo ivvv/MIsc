{
 "cells": [
  {
   "cell_type": "markdown",
   "metadata": {},
   "source": [
    "# Lensed QSO work with Gaia DR2\n",
    "\n",
    "Using the LQSO Castle match with DR2 as the learning set and apply this to LQSO allwise 2.\n",
    "\n",
    "Trying with machine learning classification.\n",
    "\n",
    "The idea is to use the following set of _features_ for each LQSO:\n",
    "\n",
    "* the total proper motion and its error\n",
    "* the total parallax and its error\n",
    "* the astrometric colour\n",
    "* the distance to the 3rd neighbour.\n",
    "\n",
    "This makes 6 _features_ to feed to the classification.\n",
    "\n",
    "Trying with two supervised classifications: `DecisionTree` and `RandomForest`. All Castle sources are `class=1`, randomly selecting 10000 from the QSO sample as `class=0`. The `RandomForest` method find much fewer candidates.\n"
   ]
  },
  {
   "cell_type": "code",
   "execution_count": 2,
   "metadata": {},
   "outputs": [],
   "source": [
    "import os\n",
    "import numpy as np\n",
    "\n",
    "from astropy.table import Table, vstack\n",
    "\n",
    "import matplotlib.pyplot as plt\n",
    "%matplotlib inline\n",
    "\n",
    "from astropy.coordinates import SkyCoord \n",
    "import astropy.units as u\n",
    "\n",
    "from sklearn.neighbors import NearestNeighbors\n",
    "from sklearn.neighbors import BallTree\n",
    "from sklearn import tree as sktree\n",
    "from sklearn.ensemble import RandomForestClassifier\n",
    "#from IPython.display import Math\n",
    "import warnings\n",
    "from astropy.utils.exceptions import AstropyWarning\n",
    "warnings.simplefilter('ignore', category=AstropyWarning)\n",
    "\n",
    "import pandas as pd\n",
    "\n",
    "#D2R = np.pi/180.0\n",
    "# will use numpy functions deg2rad and rad2deg\n",
    "home = os.path.expanduser('~')\n",
    "wdir =  home + '/Dropbox/Work/Gaia-QSO'\n",
    "dataDir = home + '/Dropbox/Work/Python/MIsc'"
   ]
  },
  {
   "cell_type": "code",
   "execution_count": 14,
   "metadata": {},
   "outputs": [
    {
     "name": "stdout",
     "output_type": "stream",
     "text": [
      "Downloading http://vospace.esac.esa.int/vospace/sh/3ff8e13b3d12cce1a8d24448b77669865706268?dl=1 [Done]\n",
      "115\n"
     ]
    }
   ],
   "source": [
    "# read the Castle xmatch with DR2\n",
    "#url1 = 'http://vospace.esac.esa.int/vospace/sh/9da5bd4b841f4032ee3f94e2f357067a554434?dl=1'\n",
    "#t1 = Table.read(url1,format='votable')\n",
    "#\n",
    "# new Castle 5\" sample from Alex\n",
    "url1 = \"http://vospace.esac.esa.int/vospace/sh/3ff8e13b3d12cce1a8d24448b77669865706268?dl=1\"\n",
    "t1 = Table.read(url1,format='votable')\n",
    "#file1 = '{}/lqso_castle-result.fits.gz'.format(dataDir)\n",
    "#t1 = Table.read(file1)\n",
    "nt1 = len(t1)\n",
    "print (nt1)"
   ]
  },
  {
   "cell_type": "code",
   "execution_count": 15,
   "metadata": {},
   "outputs": [
    {
     "name": "stdout",
     "output_type": "stream",
     "text": [
      "466044\n"
     ]
    }
   ],
   "source": [
    "# read the DR2 xmatch with allwise\n",
    "#url2 = 'http://vospace.esac.esa.int/vospace/sh/d964d4b3687ede95d64c19609abb3136fbe55c0?dl=1'\n",
    "#t2 = Table.read(url2,format='votable')\n",
    "# \n",
    "# cleaned allwise 5\" from Maggie\n",
    "# saved to a file for faster access\n",
    "#url2 = 'http://vospace.esac.esa.int/vospace/sh/d18d69255b40f4178ec5155a679a33e1dbddd37?dl=1'\n",
    "#t2 = Table.read(url2,format='ascii.csv')\n",
    "#file2 = '{}/lqso_allwise2-result.fits.gz'.format(dataDir)\n",
    "file2 = '{}/QSO_ALLWISE5_CLEANED.csv'.format(dataDir)\n",
    "t2 = Table.read(file2,format='ascii.csv')\n",
    "nt2 = len(t2)\n",
    "print (nt2)"
   ]
  },
  {
   "cell_type": "code",
   "execution_count": 16,
   "metadata": {},
   "outputs": [
    {
     "name": "stdout",
     "output_type": "stream",
     "text": [
      "Total: 466159 (115 LQSO + 466044 QSO)\n"
     ]
    }
   ],
   "source": [
    "print (\"Total: {} ({} LQSO + {} QSO)\".format(nt1+nt2,nt1,nt2))"
   ]
  },
  {
   "cell_type": "code",
   "execution_count": 17,
   "metadata": {},
   "outputs": [],
   "source": [
    "#t2.colnames\n",
    "t2.rename_column('qso_id','qso_name')"
   ]
  },
  {
   "cell_type": "code",
   "execution_count": 18,
   "metadata": {},
   "outputs": [],
   "source": [
    "t2['qso_name'] = t2['qso_name'].astype(t1['qso_name'].dtype)"
   ]
  },
  {
   "cell_type": "code",
   "execution_count": 19,
   "metadata": {},
   "outputs": [],
   "source": [
    "#\n",
    "# now add a column type, all from t1 will be type='LQSO' all from t2 are 'QSO'\n",
    "t1['type'] = 'LQSO'\n",
    "t2['type'] = 'QSO'"
   ]
  },
  {
   "cell_type": "code",
   "execution_count": 20,
   "metadata": {},
   "outputs": [],
   "source": [
    "#\n",
    "# merge the two tables\n",
    "#\n",
    "tx = vstack([t1,t2])"
   ]
  },
  {
   "cell_type": "code",
   "execution_count": 21,
   "metadata": {},
   "outputs": [
    {
     "name": "stdout",
     "output_type": "stream",
     "text": [
      "Total stack: 466159\n"
     ]
    }
   ],
   "source": [
    "print (\"Total stack: {}\".format(len(tx)))"
   ]
  },
  {
   "cell_type": "code",
   "execution_count": 24,
   "metadata": {},
   "outputs": [
    {
     "name": "stdout",
     "output_type": "stream",
     "text": [
      "Astrometry colour NaN for 26, left with 466133 sources \n"
     ]
    }
   ],
   "source": [
    "ix = np.where(~np.isnan(tx['astrometric_pseudo_colour']))[0]\n",
    "tx = tx[ix]\n",
    "print (\"Astrometry colour NaN for {}, left with {} sources \".format(nt1+nt2-len(ix),len(ix)))"
   ]
  },
  {
   "cell_type": "code",
   "execution_count": 25,
   "metadata": {},
   "outputs": [
    {
     "name": "stdout",
     "output_type": "stream",
     "text": [
      "466131\n"
     ]
    }
   ],
   "source": [
    "#\n",
    "# now filter those with NaNs in the following columns\n",
    "# \n",
    "m1 = np.isnan(tx['pmra'])\n",
    "m2 = np.isnan(tx['pmdec'])\n",
    "m3 = np.isnan(tx['parallax'])\n",
    "ix = ~(m1 + m2 + m3)\n",
    "print (len(np.where(ix)[0]))\n",
    "#print (np.where(np.isnan(t['astrometric_pseudo_colour'])))\n",
    "t = tx[ix]\n",
    "nt = len(t)"
   ]
  },
  {
   "cell_type": "code",
   "execution_count": 26,
   "metadata": {},
   "outputs": [
    {
     "name": "stdout",
     "output_type": "stream",
     "text": [
      "Total number of LQSO is 87\n",
      "Total number of QSO is 466044\n"
     ]
    }
   ],
   "source": [
    "# the total pm\n",
    "mu = np.sqrt(t['pmra']**2 + t['pmdec']**2)\n",
    "# propagate the errors, assuming pmra_error and pmdec_errors are uncorrelated\n",
    "mu_error = np.sqrt((t['pmra']*t['pmra_error']/mu)**2 + (t['pmdec']*t['pmdec_error']/mu)**2)\n",
    "#\n",
    "t['mu'] = mu\n",
    "t['mu_error'] = mu_error\n",
    "#\n",
    "i_lqso = np.where(t['type'] == 'LQSO')[0]\n",
    "n_lqso = len(i_lqso)\n",
    "print (\"Total number of LQSO is {}\".format(n_lqso))\n",
    "i_qso = np.where(t['type'] == 'QSO')[0]\n",
    "n_qso = len(i_qso)\n",
    "print (\"Total number of QSO is {}\".format(n_qso))"
   ]
  },
  {
   "cell_type": "code",
   "execution_count": 27,
   "metadata": {},
   "outputs": [],
   "source": [
    "#\n",
    "# convert ra,dec, from degrees to radians as this is needed for BallTree\n",
    "#\n",
    "ra_rad, dec_rad = map(np.deg2rad,[t['ra'],t['dec']])\n",
    "#"
   ]
  },
  {
   "cell_type": "code",
   "execution_count": 28,
   "metadata": {},
   "outputs": [],
   "source": [
    "#\n",
    "# make a catalogue of Sky Coordinates, will need it later\n",
    "#\n",
    "catalog = SkyCoord(ra=t['ra'], dec=t['dec'], unit=u.degree)\n",
    "#"
   ]
  },
  {
   "cell_type": "code",
   "execution_count": 29,
   "metadata": {},
   "outputs": [],
   "source": [
    "#\n",
    "# now calculate the nearest neighbour and the 3rd nearest neighbour to each source\n",
    "# using BallTree\n",
    "#\n",
    "X = np.array([ra_rad,dec_rad]).transpose()\n",
    "# metric haversine is the distance on a sphere\n",
    "#nbrs = NearestNeighbors(n_neighbors=4, algorithm='ball_tree',metric='haversine').fit(X)\n",
    "#distances, indices = nbrs.kneighbors(X)\n",
    "tree = BallTree(X,leaf_size=30,metric=\"haversine\")\n",
    "distances, indices = tree.query(X,k=4,sort_results=True)"
   ]
  },
  {
   "cell_type": "code",
   "execution_count": 30,
   "metadata": {},
   "outputs": [],
   "source": [
    "#\n",
    "# add the distances to the nearest 3 neighbours in table\n",
    "# convert from radians to arcsec\n",
    "#\n",
    "q1,q2,q3 = map(np.rad2deg,[distances[:,1],distances[:,2],distances[:,3]])\n",
    "t[\"n1\"] = 3600.0*q1\n",
    "t[\"n1\"].unit = u.arcsec\n",
    "t[\"n2\"] = 3600.0*q2\n",
    "t[\"n2\"].unit = u.arcsec\n",
    "t[\"n3\"] = 3600.0*q3\n",
    "t[\"n3\"].unit = u.arcsec"
   ]
  },
  {
   "cell_type": "code",
   "execution_count": 31,
   "metadata": {},
   "outputs": [],
   "source": [
    "#df = t.to_pandas()"
   ]
  },
  {
   "cell_type": "markdown",
   "metadata": {},
   "source": [
    "## Machine learning approach\n",
    "\n",
    "Will try different methods to learn from the LQSO and apply it to the simulated catalogue\n"
   ]
  },
  {
   "cell_type": "code",
   "execution_count": 32,
   "metadata": {},
   "outputs": [],
   "source": [
    "#X = np.array([t[\"mu\"],t[\"mu_error\"],t[\"parallax\"],t[\"parallax_error\"],\\\n",
    "#              t[\"n1\"],t[\"n2\"],t[\"n3\"]]).transpose()\n",
    "X = np.array([t[\"mu\"],t[\"mu_error\"],t[\"parallax\"],t[\"parallax_error\"],t[\"astrometric_pseudo_colour\"],\\\n",
    "              t[\"n3\"]]).transpose()\n",
    "# transposed because the shape should be (n_samples, n_features)\n",
    "y = np.zeros(nt,dtype=np.uint8)\n",
    "y[i_lqso] = 1"
   ]
  },
  {
   "cell_type": "code",
   "execution_count": 33,
   "metadata": {},
   "outputs": [
    {
     "data": {
      "text/plain": [
       "(array([ 0.,  2.,  4.,  8.,  4.,  3.,  5.,  5.,  5.,  3.]),\n",
       " array([  0.,   1.,   2.,   3.,   4.,   5.,   6.,   7.,   8.,   9.,  10.]),\n",
       " <a list of 10 Patch objects>)"
      ]
     },
     "execution_count": 33,
     "metadata": {},
     "output_type": "execute_result"
    },
    {
     "data": {
      "image/png": "[encoded data removed]",
      "text/plain": [
       "<Figure size 432x288 with 1 Axes>"
      ]
     },
     "metadata": {},
     "output_type": "display_data"
    }
   ],
   "source": [
    "plt.hist(t['n3'],range=(0,10))"
   ]
  },
  {
   "cell_type": "code",
   "execution_count": 34,
   "metadata": {},
   "outputs": [
    {
     "name": "stdout",
     "output_type": "stream",
     "text": [
      "potential LQSO: 1572 (0.3 %)\n"
     ]
    }
   ],
   "source": [
    "nr_qso = 1000\n",
    "isub = np.hstack([i_lqso,np.random.choice(i_qso,size=nr_qso)])\n",
    "Xp = X[isub,:]\n",
    "yp = y[isub]\n",
    "#clf = sktree.DecisionTreeClassifier()\n",
    "clf = RandomForestClassifier()\n",
    "clf.fit(Xp, yp)\n",
    "#\n",
    "ipred = np.where(clf.predict(X[i_qso,:]) == 1)[0]\n",
    "tpred = t[i_qso[ipred]]\n",
    "print (\"potential LQSO: {} ({:.1f} %)\".format(len(ipred),100*len(ipred)/n_qso))"
   ]
  },
  {
   "cell_type": "code",
   "execution_count": 35,
   "metadata": {},
   "outputs": [
    {
     "data": {
      "text/plain": [
       "(array([ 0.,  0.,  1.,  1.,  4.,  2.,  4.,  5.,  2.,  1.]),\n",
       " array([  0.,   1.,   2.,   3.,   4.,   5.,   6.,   7.,   8.,   9.,  10.]),\n",
       " <a list of 10 Patch objects>)"
      ]
     },
     "execution_count": 35,
     "metadata": {},
     "output_type": "execute_result"
    },
    {
     "data": {
      "image/png": "[encoded data removed]",
      "text/plain": [
       "<Figure size 432x288 with 1 Axes>"
      ]
     },
     "metadata": {},
     "output_type": "display_data"
    }
   ],
   "source": [
    "plt.hist(tpred['n3'],range=(0,10))"
   ]
  },
  {
   "cell_type": "code",
   "execution_count": 36,
   "metadata": {},
   "outputs": [
    {
     "name": "stdout",
     "output_type": "stream",
     "text": [
      "Total of 20 candidates with max distance to 3rd neighbour less than 10.0 arcsec\n"
     ]
    }
   ],
   "source": [
    "#\n",
    "# now, keep only those with n3max less than xx arcsec\n",
    "# \n",
    "rlimit = 10.0\n",
    "ilimit = np.where(tpred['n3'].data <= rlimit)[0]\n",
    "tout = tpred[ilimit]\n",
    "print (\"Total of {} candidates with max distance to 3rd neighbour less than {} arcsec\".format(len(ilimit),rlimit))"
   ]
  },
  {
   "cell_type": "code",
   "execution_count": 44,
   "metadata": {},
   "outputs": [],
   "source": [
    "#\n",
    "# plotting functions from Alex, with some modifications\n",
    "#\n",
    "def getLQSO(catalog,center,r=10):\n",
    "    #\n",
    "    # catalog is SkyCoordinates object produced earlier\n",
    "    # (ra_c,dec_c) is a list with ra and dec of the centre in degrees\n",
    "    # r is the serach radius in arcsec, default 10\"\n",
    "    # \n",
    "    # return index array of the neighbours within r arcsec, same size as catalog\n",
    "    #\n",
    "    scalarc = SkyCoord(center['ra']*u.deg, center['dec']*u.deg)\n",
    "    d2d = scalarc.separation(catalog)\n",
    "    mmask = d2d.value < r/3600.0\n",
    "    return np.where(mmask)[0]\n",
    "\n",
    "def plotGaiaLense(full_cat,catalog,center,r=(-10,10),pm=True):\n",
    "    indx = getLQSO(catalog,center)\n",
    "    print (\"Total {} neighbours\".format(len(indx)))\n",
    "    d = full_cat[indx].to_pandas()\n",
    "    #d = getLQSO(dd,center)\n",
    "    scale = u.arcsecond.to(u.deg)\n",
    "    x = (d.ra-center['ra'])/scale/np.cos(np.deg2rad(center['dec']))\n",
    "    y = (d.dec-center['dec'])/scale\n",
    "    plt.errorbar(x,y,xerr=d.ra_error, yerr=d.dec_error,fmt='.')\n",
    "    plt.scatter(x,y,s=100*np.exp(20-d.phot_g_mean_mag),c=d.astrometric_pseudo_colour)\n",
    "    plt.colorbar()\n",
    "    if pm : \n",
    "        vx = d.pmra\n",
    "        vy = d.pmdec\n",
    "        plt.quiver(x,y, vx, vy, angles='xy', scale_units='xy', scale=1)\n",
    "        plt.errorbar(x+vx,y+vy,xerr=d.pmra_error, yerr=d.pmdec_error,fmt='o')\n",
    "    plt.grid()\n",
    "    plt.xlabel(\"gaia.ra - center.ra [\\\"]\")\n",
    "    plt.ylabel(\"gaia.dec - center.dec [\\\"]\")\n",
    "    #plt.title(\"Source_id: {}\".format(center['source_id']))\n",
    "    plt.title('RA: {:.7f}, Dec: {:.7f} (deg)'.format(center['ra'],center['dec']))\n",
    "    plt.xlim(r)\n",
    "    plt.ylim(r)"
   ]
  },
  {
   "cell_type": "code",
   "execution_count": 45,
   "metadata": {},
   "outputs": [
    {
     "name": "stdout",
     "output_type": "stream",
     "text": [
      "Index: 6, n1,n2,n3=2.368537435284896,2.642027451434165,6.885949834344864 arcsec, 1 neighbours within 10 arcsec\n",
      "Total 1 neighbours\n"
     ]
    },
    {
     "data": {
      "image/png": "[encoded data removed]",
      "text/plain": [
       "<Figure size 432x288 with 2 Axes>"
      ]
     },
     "metadata": {},
     "output_type": "display_data"
    }
   ],
   "source": [
    "iqqq = np.random.choice(len(ilimit))\n",
    "#iqqq = 31 # strange as the tree says 4 neighbours in 10 arcsec but the search says 1.\n",
    "center = tout[iqqq]\n",
    "iq = getLQSO(catalog,center)\n",
    "print (\"Index: {}, n1,n2,n3={},{},{} arcsec, {} neighbours within 10 arcsec\".format(iqqq,tout['n1'][iqqq], tout['n2'][iqqq], tout['n3'][iqqq],len(iq)))\n",
    "#\n",
    "plotGaiaLense(t,catalog,center,r=(-10,10))"
   ]
  },
  {
   "cell_type": "code",
   "execution_count": null,
   "metadata": {},
   "outputs": [],
   "source": []
  },
  {
   "cell_type": "code",
   "execution_count": null,
   "metadata": {},
   "outputs": [],
   "source": []
  }
 ],
 "metadata": {
  "kernelspec": {
   "display_name": "Python 3",
   "language": "python",
   "name": "python3"
  },
  "language_info": {
   "codemirror_mode": {
    "name": "ipython",
    "version": 3
   },
   "file_extension": ".py",
   "mimetype": "text/x-python",
   "name": "python",
   "nbconvert_exporter": "python",
   "pygments_lexer": "ipython3",
   "version": "3.6.4"
  }
 },
 "nbformat": 4,
 "nbformat_minor": 2
}
