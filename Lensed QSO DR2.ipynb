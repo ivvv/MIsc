{
 "cells": [
  {
   "cell_type": "markdown",
   "metadata": {},
   "source": [
    "# Lensed QSO work with Gaia DR2\n",
    "\n",
    "Using the LQSO Castle match with DR2 as the learning set and apply this to LQSO allwise 2.\n",
    "\n",
    "Trying with machine learning classification.\n",
    "\n",
    "The idea is to use the following set of _features_ for each LQSO:\n",
    "\n",
    "* the total proper motion and its error\n",
    "* the total parallax and its error\n",
    "* the astrometric colour\n",
    "* the distances to the nearest 3 neighbours.\n",
    "\n",
    "This makes 6 _features_ to feed to the SVM/PCA classification.\n"
   ]
  },
  {
   "cell_type": "code",
   "execution_count": 23,
   "metadata": {},
   "outputs": [],
   "source": [
    "import os\n",
    "import numpy as np\n",
    "\n",
    "from astropy.table import Table, vstack\n",
    "\n",
    "import matplotlib.pyplot as plt\n",
    "%matplotlib inline\n",
    "\n",
    "from astropy.coordinates import SkyCoord \n",
    "import astropy.units as u\n",
    "\n",
    "from sklearn.neighbors import NearestNeighbors\n",
    "from sklearn.neighbors import BallTree\n",
    "from sklearn import tree as sktree\n",
    "from sklearn.ensemble import RandomForestClassifier\n",
    "#from IPython.display import Math\n",
    "import warnings\n",
    "from astropy.utils.exceptions import AstropyWarning\n",
    "warnings.simplefilter('ignore', category=AstropyWarning)\n",
    "\n",
    "D2R = np.pi/180.0\n",
    "home = os.path.expanduser('~')\n",
    "wdir =  home + '/Dropbox/Work/Gaia-QSO'\n",
    "dataDir = home + '/Dropbox/Work/Python/MIsc'"
   ]
  },
  {
   "cell_type": "code",
   "execution_count": 6,
   "metadata": {},
   "outputs": [],
   "source": [
    "# read the Castle xmatch with DR2\n",
    "#url1 = 'http://vospace.esac.esa.int/vospace/sh/9da5bd4b841f4032ee3f94e2f357067a554434?dl=1'\n",
    "#t1 = Table.read(url1,format='votable')\n",
    "file1 = '{}/lqso_castle-result.fits.gz'.format(dataDir)\n",
    "t1 = Table.read(file1)\n",
    "nt1 = len(t1)\n",
    "#"
   ]
  },
  {
   "cell_type": "code",
   "execution_count": 7,
   "metadata": {},
   "outputs": [
    {
     "name": "stdout",
     "output_type": "stream",
     "text": [
      "495739\n"
     ]
    }
   ],
   "source": [
    "# read the DR2 xmatch with allwise\n",
    "#url2 = 'http://vospace.esac.esa.int/vospace/sh/d964d4b3687ede95d64c19609abb3136fbe55c0?dl=1'\n",
    "#t2 = Table.read(url2,format='votable')\n",
    "file2 = '{}/lqso_allwise2-result.fits.gz'.format(dataDir)\n",
    "t2 = Table.read(file2)\n",
    "nt2 = len(t2)\n",
    "print (nt2)"
   ]
  },
  {
   "cell_type": "code",
   "execution_count": null,
   "metadata": {},
   "outputs": [],
   "source": []
  },
  {
   "cell_type": "code",
   "execution_count": 12,
   "metadata": {},
   "outputs": [],
   "source": [
    "#t2.colnames\n",
    "t2.rename_column('qso_id','qso_name')"
   ]
  },
  {
   "cell_type": "code",
   "execution_count": 13,
   "metadata": {},
   "outputs": [],
   "source": [
    "t2['qso_name'] = t2['qso_name'].astype(t1['qso_name'].dtype)"
   ]
  },
  {
   "cell_type": "code",
   "execution_count": 14,
   "metadata": {},
   "outputs": [],
   "source": [
    "#\n",
    "# now add a column type, all from t1 will be type='LQSO' all from t2 are 'QSO'\n",
    "t1['type'] = 'LQSO'\n",
    "t2['type'] = 'QSO'"
   ]
  },
  {
   "cell_type": "code",
   "execution_count": 15,
   "metadata": {},
   "outputs": [],
   "source": [
    "#\n",
    "# merge the two tables\n",
    "#\n",
    "tx = vstack([t1,t2])"
   ]
  },
  {
   "cell_type": "code",
   "execution_count": 16,
   "metadata": {},
   "outputs": [
    {
     "name": "stdout",
     "output_type": "stream",
     "text": [
      "490704\n"
     ]
    }
   ],
   "source": [
    "ix = np.where(~np.isnan(tx['astrometric_pseudo_colour']))[0]\n",
    "tx = tx[ix]\n",
    "print (len(ix))"
   ]
  },
  {
   "cell_type": "code",
   "execution_count": 17,
   "metadata": {},
   "outputs": [
    {
     "name": "stdout",
     "output_type": "stream",
     "text": [
      "490621\n"
     ]
    }
   ],
   "source": [
    "#\n",
    "# now filter those with NaNs in the following columns\n",
    "# \n",
    "m1 = np.isnan(tx['pmra'])\n",
    "m2 = np.isnan(tx['pmdec'])\n",
    "m3 = np.isnan(tx['parallax'])\n",
    "ix = ~(m1 + m2 + m3)\n",
    "print (len(np.where(ix)[0]))\n",
    "#print (np.where(np.isnan(t['astrometric_pseudo_colour'])))\n",
    "t = tx[ix]\n",
    "nt = len(t)"
   ]
  },
  {
   "cell_type": "code",
   "execution_count": 18,
   "metadata": {},
   "outputs": [
    {
     "name": "stdout",
     "output_type": "stream",
     "text": [
      "Total number of LQSO is 66\n",
      "Total number of QSO is 490555\n"
     ]
    }
   ],
   "source": [
    "# the total pm\n",
    "mu = np.sqrt(t['pmra']**2 + t['pmdec']**2)\n",
    "# propagate the errors, assuming pmra_error and pmdec_errors are uncorrelated\n",
    "mu_error = np.sqrt((t['pmra']*t['pmra_error']/mu)**2 + (t['pmdec']*t['pmdec_error']/mu)**2)\n",
    "#\n",
    "t['mu'] = mu\n",
    "t['mu_error'] = mu_error\n",
    "#\n",
    "i_lqso = np.where(t['type'] == 'LQSO')[0]\n",
    "n_lqso = len(i_lqso)\n",
    "print (\"Total number of LQSO is {}\".format(n_lqso))\n",
    "i_qso = np.where(t['type'] == 'QSO')[0]\n",
    "n_qso = len(i_qso)\n",
    "print (\"Total number of QSO is {}\".format(n_qso))"
   ]
  },
  {
   "cell_type": "code",
   "execution_count": 19,
   "metadata": {},
   "outputs": [],
   "source": [
    "#\n",
    "# now calculate the nearest neighbour and the 3rd nearest neighbour to each source\n",
    "# using BallTree\n",
    "#\n",
    "#\n",
    "# build the tree\n",
    "#\n",
    "X = np.array([t['ra']*D2R,t['dec']*D2R]).transpose()\n",
    "# metric haversine is the distance on a sphere\n",
    "#nbrs = NearestNeighbors(n_neighbors=4, algorithm='ball_tree',metric='haversine').fit(X)\n",
    "#distances, indices = nbrs.kneighbors(X)\n",
    "tree = BallTree(X,leaf_size=30,metric=\"haversine\")\n",
    "distances, indices = tree.query(X,k=4,sort_results=True)"
   ]
  },
  {
   "cell_type": "code",
   "execution_count": 20,
   "metadata": {},
   "outputs": [],
   "source": [
    "#\n",
    "# add the distances to the nearest 3 neighbours in table\n",
    "# convert from radians to arcsec\n",
    "#\n",
    "t[\"n1\"] = 3600.0*distances[:,1]/D2R\n",
    "t[\"n1\"].unit = u.arcsec\n",
    "t[\"n2\"] = 3600.0*distances[:,2]/D2R\n",
    "t[\"n2\"].unit = u.arcsec\n",
    "t[\"n3\"] = 3600.0*distances[:,3]/D2R\n",
    "t[\"n3\"].unit = u.arcsec\n",
    "#"
   ]
  },
  {
   "cell_type": "markdown",
   "metadata": {},
   "source": [
    "## Machine learning approach\n",
    "\n",
    "Will try different methods to learn from the LQSO and apply it to the simulated catalogue\n"
   ]
  },
  {
   "cell_type": "code",
   "execution_count": 21,
   "metadata": {},
   "outputs": [],
   "source": [
    "#X = np.array([t[\"mu\"],t[\"mu_error\"],t[\"parallax\"],t[\"parallax_error\"],\\\n",
    "#              t[\"n1\"],t[\"n2\"],t[\"n3\"]]).transpose()\n",
    "X = np.array([t[\"mu\"],t[\"mu_error\"],t[\"parallax\"],t[\"parallax_error\"],t[\"astrometric_pseudo_colour\"],\\\n",
    "              t[\"n3\"]]).transpose()\n",
    "#\n",
    "# the shape should be (n_samples, n_features)\n",
    "y = np.zeros(nt,dtype=np.uint8)\n",
    "y[i_lqso] = 1"
   ]
  },
  {
   "cell_type": "code",
   "execution_count": 22,
   "metadata": {},
   "outputs": [
    {
     "data": {
      "text/plain": [
       "(array([12., 37.,  6.,  9., 12.,  3., 10.,  2.,  6.,  7.]),\n",
       " array([ 0.,  1.,  2.,  3.,  4.,  5.,  6.,  7.,  8.,  9., 10.]),\n",
       " <a list of 10 Patch objects>)"
      ]
     },
     "execution_count": 22,
     "metadata": {},
     "output_type": "execute_result"
    },
    {
     "data": {
      "image/png": "[encoded data removed]",
      "text/plain": [
       "<Figure size 432x288 with 1 Axes>"
      ]
     },
     "metadata": {},
     "output_type": "display_data"
    }
   ],
   "source": [
    "plt.hist(t['n3'],range=(0,10))"
   ]
  },
  {
   "cell_type": "code",
   "execution_count": 24,
   "metadata": {},
   "outputs": [
    {
     "name": "stdout",
     "output_type": "stream",
     "text": [
      "potential LQSO: 42 (0.0 %)\n"
     ]
    }
   ],
   "source": [
    "nr_qso = 10000\n",
    "isub = np.hstack([i_lqso,np.random.choice(i_qso,size=nr_qso)])\n",
    "Xp = X[isub,:]\n",
    "yp = y[isub]\n",
    "#clf = sktree.DecisionTreeClassifier()\n",
    "clf = RandomForestClassifier()\n",
    "clf.fit(Xp, yp)\n",
    "#\n",
    "ipred = np.where(clf.predict(X[i_qso,:]) == 1)[0]\n",
    "tpred = t[i_qso[ipred]]\n",
    "print (\"potential LQSO: {} ({:.1f} %)\".format(len(ipred),100*len(ipred)/n_qso))"
   ]
  },
  {
   "cell_type": "code",
   "execution_count": 25,
   "metadata": {},
   "outputs": [
    {
     "data": {
      "text/plain": [
       "(array([ 6., 18.,  6.,  1.,  0.,  0.,  1.,  0.,  0.,  0.]),\n",
       " array([ 0.,  1.,  2.,  3.,  4.,  5.,  6.,  7.,  8.,  9., 10.]),\n",
       " <a list of 10 Patch objects>)"
      ]
     },
     "execution_count": 25,
     "metadata": {},
     "output_type": "execute_result"
    },
    {
     "data": {
      "image/png": "[encoded data removed]",
      "text/plain": [
       "<Figure size 432x288 with 1 Axes>"
      ]
     },
     "metadata": {},
     "output_type": "display_data"
    }
   ],
   "source": [
    "plt.hist(tpred['n3'],range=(0,10))"
   ]
  },
  {
   "cell_type": "code",
   "execution_count": 99,
   "metadata": {},
   "outputs": [
    {
     "name": "stdout",
     "output_type": "stream",
     "text": [
      "Total of 50 candidates with max distance to 3rd neighbour less than 5.0 arcsec\n"
     ]
    }
   ],
   "source": [
    "#\n",
    "# now, keep only those with n3max less than xx arcsec\n",
    "# \n",
    "rlimit = 5.0\n",
    "ilimit = np.where(tpred['n3'].data <= 5.0)[0]\n",
    "tout = tpred[ilimit]\n",
    "print (\"Total of {} candidates with max distance to 3rd neighbour less than {} arcsec\".format(len(ilimit),rlimit))"
   ]
  },
  {
   "cell_type": "code",
   "execution_count": 100,
   "metadata": {},
   "outputs": [
    {
     "data": {
      "text/html": [
       "<i>Table masked=True length=50</i>\n",
       "<table id=\"table140404564350848\" class=\"table-striped table-bordered table-condensed\">\n",
       "<thead><tr><th>qso_name</th><th>solution_id</th><th>designation</th><th>source_id</th><th>random_index</th><th>ref_epoch</th><th>ra</th><th>ra_error</th><th>dec</th><th>dec_error</th><th>parallax</th><th>parallax_error</th><th>parallax_over_error</th><th>pmra</th><th>pmra_error</th><th>pmdec</th><th>pmdec_error</th><th>ra_dec_corr</th><th>ra_parallax_corr</th><th>ra_pmra_corr</th><th>ra_pmdec_corr</th><th>dec_parallax_corr</th><th>dec_pmra_corr</th><th>dec_pmdec_corr</th><th>parallax_pmra_corr</th><th>parallax_pmdec_corr</th><th>pmra_pmdec_corr</th><th>astrometric_n_obs_al</th><th>astrometric_n_obs_ac</th><th>astrometric_n_good_obs_al</th><th>astrometric_n_bad_obs_al</th><th>astrometric_gof_al</th><th>astrometric_chi2_al</th><th>astrometric_excess_noise</th><th>astrometric_excess_noise_sig</th><th>astrometric_params_solved</th><th>astrometric_primary_flag</th><th>astrometric_weight_al</th><th>astrometric_pseudo_colour</th><th>astrometric_pseudo_colour_error</th><th>mean_varpi_factor_al</th><th>astrometric_matched_observations</th><th>visibility_periods_used</th><th>astrometric_sigma5d_max</th><th>frame_rotator_object_type</th><th>matched_observations</th><th>duplicated_source</th><th>phot_g_n_obs</th><th>phot_g_mean_flux</th><th>phot_g_mean_flux_error</th><th>phot_g_mean_flux_over_error</th><th>phot_g_mean_mag</th><th>phot_bp_n_obs</th><th>phot_bp_mean_flux</th><th>phot_bp_mean_flux_error</th><th>phot_bp_mean_flux_over_error</th><th>phot_bp_mean_mag</th><th>phot_rp_n_obs</th><th>phot_rp_mean_flux</th><th>phot_rp_mean_flux_error</th><th>phot_rp_mean_flux_over_error</th><th>phot_rp_mean_mag</th><th>phot_bp_rp_excess_factor</th><th>phot_proc_mode</th><th>bp_rp</th><th>bp_g</th><th>g_rp</th><th>radial_velocity</th><th>radial_velocity_error</th><th>rv_nb_transits</th><th>rv_template_teff</th><th>rv_template_logg</th><th>rv_template_fe_h</th><th>phot_variable_flag</th><th>l</th><th>b</th><th>ecl_lon</th><th>ecl_lat</th><th>priam_flags</th><th>teff_val</th><th>teff_percentile_lower</th><th>teff_percentile_upper</th><th>a_g_val</th><th>a_g_percentile_lower</th><th>a_g_percentile_upper</th><th>e_bp_min_rp_val</th><th>e_bp_min_rp_percentile_lower</th><th>e_bp_min_rp_percentile_upper</th><th>flame_flags</th><th>radius_val</th><th>radius_percentile_lower</th><th>radius_percentile_upper</th><th>lum_val</th><th>lum_percentile_lower</th><th>lum_percentile_upper</th><th>datalink_url</th><th>epoch_photometry_url</th><th>type</th><th>mu</th><th>mu_error</th><th>n1</th><th>n2</th><th>n3</th><th>n3max</th></tr></thead>\n",
       "<thead><tr><th></th><th></th><th></th><th></th><th></th><th>yr</th><th>deg</th><th>mas</th><th>deg</th><th>mas</th><th>mas</th><th>mas</th><th></th><th>mas.yr**-1</th><th>mas.yr**-1</th><th>mas.yr**-1</th><th>mas.yr**-1</th><th></th><th></th><th></th><th></th><th></th><th></th><th></th><th></th><th></th><th></th><th></th><th></th><th></th><th></th><th></th><th></th><th>mas</th><th></th><th></th><th></th><th>mas**-2</th><th>um**-1</th><th>um**-1</th><th></th><th></th><th></th><th>mas</th><th></th><th></th><th></th><th></th><th>&apos;electron&apos;.s**-1</th><th>&apos;electron&apos;.s**-1</th><th></th><th>mag</th><th></th><th>&apos;electron&apos;.s**-1</th><th>&apos;electron&apos;.s**-1</th><th></th><th>mag</th><th></th><th>&apos;electron&apos;.s**-1</th><th>&apos;electron&apos;.s**-1</th><th></th><th>mag</th><th></th><th></th><th>mag</th><th>mag</th><th>mag</th><th>km.s**-1</th><th>km.s**-1</th><th></th><th>K</th><th>log(cm.s**-2)</th><th>&apos;dex&apos;</th><th></th><th>deg</th><th>deg</th><th>deg</th><th>deg</th><th></th><th>K</th><th>K</th><th>K</th><th>mag</th><th>mag</th><th>mag</th><th>mag</th><th>mag</th><th>mag</th><th></th><th>Rsun</th><th>Rsun</th><th>Rsun</th><th>Lsun</th><th>Lsun</th><th>Lsun</th><th></th><th></th><th></th><th>mas.yr**-1</th><th>mas.yr**-1</th><th>arcsec</th><th>arcsec</th><th>arcsec</th><th>arcsec</th></tr></thead>\n",
       "<thead><tr><th>bytes18</th><th>int64</th><th>object</th><th>int64</th><th>int64</th><th>float64</th><th>float64</th><th>float64</th><th>float64</th><th>float64</th><th>float64</th><th>float64</th><th>float32</th><th>float64</th><th>float64</th><th>float64</th><th>float64</th><th>float32</th><th>float32</th><th>float32</th><th>float32</th><th>float32</th><th>float32</th><th>float32</th><th>float32</th><th>float32</th><th>float32</th><th>int32</th><th>int32</th><th>int32</th><th>int32</th><th>float32</th><th>float32</th><th>float64</th><th>float64</th><th>int16</th><th>bool</th><th>float32</th><th>float64</th><th>float64</th><th>float32</th><th>int16</th><th>int16</th><th>float32</th><th>int32</th><th>int16</th><th>bool</th><th>int32</th><th>float64</th><th>float64</th><th>float32</th><th>float32</th><th>int32</th><th>float64</th><th>float64</th><th>float32</th><th>float32</th><th>int32</th><th>float64</th><th>float64</th><th>float32</th><th>float32</th><th>float32</th><th>int16</th><th>float32</th><th>float32</th><th>float32</th><th>float64</th><th>float64</th><th>int32</th><th>float32</th><th>float32</th><th>float32</th><th>object</th><th>float64</th><th>float64</th><th>float64</th><th>float64</th><th>int64</th><th>float32</th><th>float32</th><th>float32</th><th>float32</th><th>float32</th><th>float32</th><th>float32</th><th>float32</th><th>float32</th><th>int64</th><th>float32</th><th>float32</th><th>float32</th><th>float32</th><th>float32</th><th>float32</th><th>object</th><th>object</th><th>str4</th><th>float64</th><th>float64</th><th>float64</th><th>float64</th><th>float64</th><th>float64</th></tr></thead>\n",
       "<tr><td>286815888806335744</td><td>1635721458409799680</td><td>Gaia DR2 286815888806335744</td><td>286815888806335744</td><td>1197308913</td><td>2015.5</td><td>89.57098284698911</td><td>0.3446795900000857</td><td>63.9347519761824</td><td>0.3823068664739584</td><td>0.6232313183054641</td><td>0.6980225752696313</td><td>0.89285266</td><td>-0.07613269658288235</td><td>0.6459767300972241</td><td>-0.3557873387958923</td><td>0.6311996154491173</td><td>-0.21445452</td><td>0.41797638</td><td>0.41768962</td><td>-0.19029109</td><td>-0.37670553</td><td>-0.44527304</td><td>-0.06772786</td><td>0.5578354</td><td>0.17182718</td><td>0.10915433</td><td>235</td><td>0</td><td>235</td><td>0</td><td>1.9983356</td><td>274.8255</td><td>1.127105498276356</td><td>1.4398701845784672</td><td>31</td><td>True</td><td>0.088501945</td><td>1.5712567627747567</td><td>0.10467495911389185</td><td>0.007460747</td><td>28</td><td>12</td><td>0.7252258</td><td>3</td><td>35</td><td>False</td><td>262</td><td>242.05014141603436</td><td>1.9470597267129344</td><td>124.31573</td><td>19.728601</td><td>0</td><td>--</td><td>--</td><td>--</td><td>--</td><td>0</td><td>--</td><td>--</td><td>--</td><td>--</td><td>--</td><td>2</td><td>--</td><td>--</td><td>--</td><td>--</td><td>--</td><td>0</td><td>--</td><td>--</td><td>--</td><td>NOT_AVAILABLE</td><td>149.76024069848393</td><td>18.646097087118115</td><td>89.7521217355535</td><td>40.495840276832425</td><td>--</td><td>--</td><td>--</td><td>--</td><td>--</td><td>--</td><td>--</td><td>--</td><td>--</td><td>--</td><td>--</td><td>--</td><td>--</td><td>--</td><td>--</td><td>--</td><td>--</td><td>http://geadata.esac.esa.int/data-server/datalink/links?ID=286815888806335744</td><td>--</td><td>QSO</td><td>0.3638417484792589</td><td>0.6318538540102779</td><td>1.2683508067872706</td><td>2.733368623467581</td><td>3.2846791543599836</td><td>3.2846791543599836</td></tr>\n",
       "<tr><td>286815888806335744</td><td>1635721458409799680</td><td>Gaia DR2 286815888803020416</td><td>286815888803020416</td><td>1258950843</td><td>2015.5</td><td>89.57022358183092</td><td>0.1282528778557329</td><td>63.935076860731215</td><td>0.13771951782688685</td><td>0.6593472916125599</td><td>0.24748890115688862</td><td>2.664149</td><td>0.582052872302928</td><td>0.23894267290078675</td><td>-0.4030025611053405</td><td>0.22724513521976838</td><td>-0.32422277</td><td>0.3904663</td><td>0.53396904</td><td>-0.13478352</td><td>-0.3800488</td><td>-0.3758979</td><td>0.13954149</td><td>0.5497088</td><td>0.13112387</td><td>-0.031648222</td><td>277</td><td>0</td><td>277</td><td>0</td><td>1.5370909</td><td>308.72302</td><td>0.11545786389566404</td><td>0.08480225361162987</td><td>31</td><td>False</td><td>0.5745312</td><td>1.4827247416705949</td><td>0.036614629507890004</td><td>-0.051860154</td><td>31</td><td>14</td><td>0.26383385</td><td>0</td><td>34</td><td>False</td><td>304</td><td>843.3565586408135</td><td>1.3641956501820263</td><td>618.20795</td><td>18.373337</td><td>31</td><td>460.8769441574618</td><td>12.422273841716953</td><td>37.100853</td><td>18.692425</td><td>32</td><td>775.1600226150224</td><td>7.992219255365517</td><td>96.989334</td><td>17.53844</td><td>1.4656161</td><td>0</td><td>1.1539841</td><td>0.31908798</td><td>0.8348961</td><td>--</td><td>--</td><td>0</td><td>--</td><td>--</td><td>--</td><td>NOT_AVAILABLE</td><td>149.7597845168408</td><td>18.645923825538045</td><td>89.7516847071271</td><td>40.496166466651765</td><td>--</td><td>--</td><td>--</td><td>--</td><td>--</td><td>--</td><td>--</td><td>--</td><td>--</td><td>--</td><td>--</td><td>--</td><td>--</td><td>--</td><td>--</td><td>--</td><td>--</td><td>http://geadata.esac.esa.int/data-server/datalink/links?ID=286815888803020416</td><td>--</td><td>QSO</td><td>0.707952406884497</td><td>0.23521584537609938</td><td>0.6725754577021545</td><td>2.733368623467581</td><td>4.001604378767227</td><td>4.001604378767227</td></tr>\n",
       "<tr><td>286815888806335744</td><td>1635721458409799680</td><td>Gaia DR2 286815888806336000</td><td>286815888806336000</td><td>1163712797</td><td>2015.5</td><td>89.57133513645893</td><td>0.3849477235744426</td><td>63.935368285762074</td><td>0.41371054192785256</td><td>1.8719647346608486</td><td>0.699337438396025</td><td>2.676769</td><td>7.475012089769395</td><td>0.7174984131271067</td><td>-22.559874128923486</td><td>0.7089639965447219</td><td>-0.42245007</td><td>0.37727484</td><td>0.5952063</td><td>-0.18640047</td><td>-0.3283183</td><td>-0.3899533</td><td>0.18788895</td><td>0.53126466</td><td>0.13984121</td><td>-0.17691946</td><td>250</td><td>0</td><td>250</td><td>0</td><td>1.9360228</td><td>289.657</td><td>0.9928316205255528</td><td>0.9809662617890661</td><td>31</td><td>False</td><td>0.07623223</td><td>1.1540006194510493</td><td>0.10501347278846458</td><td>-0.07234187</td><td>28</td><td>13</td><td>0.79012567</td><td>0</td><td>33</td><td>False</td><td>267</td><td>226.6686734548304</td><td>1.137366949984528</td><td>199.29248</td><td>19.799887</td><td>0</td><td>--</td><td>--</td><td>--</td><td>--</td><td>0</td><td>--</td><td>--</td><td>--</td><td>--</td><td>--</td><td>2</td><td>--</td><td>--</td><td>--</td><td>--</td><td>--</td><td>0</td><td>--</td><td>--</td><td>--</td><td>NOT_AVAILABLE</td><td>149.75971232132304</td><td>18.646488437210632</td><td>89.75232846053875</td><td>40.49645597568907</td><td>--</td><td>--</td><td>--</td><td>--</td><td>--</td><td>--</td><td>--</td><td>--</td><td>--</td><td>--</td><td>--</td><td>--</td><td>--</td><td>--</td><td>--</td><td>--</td><td>--</td><td>http://geadata.esac.esa.int/data-server/datalink/links?ID=286815888806336000</td><td>--</td><td>QSO</td><td>23.76602041686975</td><td>0.7098128465291892</td><td>1.2683508067872706</td><td>4.001604378767227</td><td>4.5472561731039605</td><td>4.5472561731039605</td></tr>\n",
       "<tr><td>286815064169288832</td><td>1635721458409799680</td><td>Gaia DR2 286815064169288832</td><td>286815064169288832</td><td>159259487</td><td>2015.5</td><td>89.5700775911675</td><td>0.2314524289823874</td><td>63.91953746748668</td><td>0.26777769717251415</td><td>-0.29354178791328706</td><td>0.3862414102284184</td><td>-0.75999564</td><td>-0.21115627776097864</td><td>0.43470428923449356</td><td>-0.40325143931795104</td><td>0.509247686709804</td><td>-0.16209699</td><td>0.08814963</td><td>0.47617307</td><td>-0.17472732</td><td>-0.1309008</td><td>-0.22768962</td><td>0.24957643</td><td>0.23006947</td><td>0.17146957</td><td>-0.036309496</td><td>297</td><td>0</td><td>295</td><td>2</td><td>2.0596085</td><td>341.73935</td><td>0.26421049206552993</td><td>0.12889177650017655</td><td>31</td><td>True</td><td>0.13871697</td><td>1.554816571283761</td><td>0.07628634451927362</td><td>-0.061516546</td><td>33</td><td>15</td><td>0.4630622</td><td>3</td><td>37</td><td>False</td><td>331</td><td>308.8377334245416</td><td>1.84661541476191</td><td>167.24529</td><td>19.46404</td><td>33</td><td>164.18090976446055</td><td>6.441422140529026</td><td>25.488302</td><td>19.813082</td><td>36</td><td>228.2745330766949</td><td>6.902953342344905</td><td>33.06911</td><td>18.865776</td><td>1.2707497</td><td>0</td><td>0.9473057</td><td>0.349041</td><td>0.5982647</td><td>--</td><td>--</td><td>0</td><td>--</td><td>--</td><td>--</td><td>NOT_AVAILABLE</td><td>149.7747485206953</td><td>18.63956480036645</td><td>89.75152017142327</td><td>40.48062744478475</td><td>--</td><td>--</td><td>--</td><td>--</td><td>--</td><td>--</td><td>--</td><td>--</td><td>--</td><td>--</td><td>--</td><td>--</td><td>--</td><td>--</td><td>--</td><td>--</td><td>--</td><td>http://geadata.esac.esa.int/data-server/datalink/links?ID=286815064169288832</td><td>--</td><td>QSO</td><td>0.4551908357489974</td><td>0.49415717885940974</td><td>0.6725754577021545</td><td>3.2846791543599836</td><td>4.5472561731039605</td><td>4.5472561731039605</td></tr>\n",
       "<tr><td>925907232901783296</td><td>1635721458409799680</td><td>Gaia DR2 925907232900521472</td><td>925907232900521472</td><td>444500814</td><td>2015.5</td><td>116.7208228524933</td><td>0.4638936359469883</td><td>44.0643645785308</td><td>0.29923625797340714</td><td>-0.7043504054578348</td><td>0.5096611873598268</td><td>-1.3819973</td><td>-1.183599365804016</td><td>0.9154433675701417</td><td>-0.40408362283255006</td><td>0.5482626485031502</td><td>0.3071336</td><td>-0.06763001</td><td>0.37924355</td><td>0.14049096</td><td>-0.22116019</td><td>0.03958448</td><td>0.4072701</td><td>0.38739535</td><td>-0.07304863</td><td>0.24371862</td><td>194</td><td>0</td><td>193</td><td>1</td><td>1.6459457</td><td>221.01282</td><td>0.6222506476737343</td><td>0.4248656690884591</td><td>31</td><td>False</td><td>0.11217953</td><td>1.5726868584151836</td><td>0.09781767359731885</td><td>0.052449882</td><td>23</td><td>12</td><td>0.85150045</td><td>0</td><td>23</td><td>False</td><td>194</td><td>263.22203900092205</td><td>2.3631177059764057</td><td>111.38761</td><td>19.63756</td><td>5</td><td>286.27348008914083</td><td>19.532981530826977</td><td>14.655903</td><td>19.209435</td><td>5</td><td>363.8881064280897</td><td>21.192242068883324</td><td>17.170816</td><td>18.3595</td><td>2.470012</td><td>0</td><td>0.8499336</td><td>-0.42812538</td><td>1.278059</td><td>--</td><td>--</td><td>0</td><td>--</td><td>--</td><td>--</td><td>NOT_AVAILABLE</td><td>175.1667961410999</td><td>28.055741031312877</td><td>110.4708405631381</td><td>22.505703345714608</td><td>--</td><td>--</td><td>--</td><td>--</td><td>--</td><td>--</td><td>--</td><td>--</td><td>--</td><td>--</td><td>--</td><td>--</td><td>--</td><td>--</td><td>--</td><td>--</td><td>--</td><td>http://geadata.esac.esa.int/data-server/datalink/links?ID=925907232900521472</td><td>--</td><td>QSO</td><td>1.2506762302743055</td><td>0.884270046050731</td><td>0.0</td><td>1.3397949986924718</td><td>1.3397949986924718</td><td>1.3397949986924718</td></tr>\n",
       "<tr><td>925907232901783296</td><td>1635721458409799680</td><td>Gaia DR2 925907232901783296</td><td>925907232901783296</td><td>854193299</td><td>2015.5</td><td>116.7211893141351</td><td>0.45117300977609814</td><td>44.06422022838289</td><td>0.28376599631594374</td><td>-0.1606340546326947</td><td>0.4914715457369693</td><td>-0.32684305</td><td>0.5001861242323157</td><td>0.8853899114048474</td><td>0.37496042995990553</td><td>0.5091103117040532</td><td>0.33405882</td><td>-0.002934734</td><td>0.38234678</td><td>0.16881698</td><td>-0.22192009</td><td>0.05953124</td><td>0.383512</td><td>0.41897684</td><td>-0.07590219</td><td>0.26131955</td><td>199</td><td>0</td><td>197</td><td>2</td><td>2.1601737</td><td>236.75026</td><td>1.10080369634297</td><td>1.6972619048142357</td><td>31</td><td>True</td><td>0.1193271</td><td>1.668721786346278</td><td>0.09065517283267797</td><td>0.06522888</td><td>23</td><td>12</td><td>0.82710296</td><td>3</td><td>23</td><td>False</td><td>198</td><td>297.3491924551771</td><td>2.3166615477910755</td><td>128.35245</td><td>19.5052</td><td>13</td><td>392.58739695474964</td><td>26.933737472668764</td><td>14.576046</td><td>18.866547</td><td>12</td><td>391.40406542898324</td><td>18.100462864254183</td><td>21.623981</td><td>18.280357</td><td>2.636602</td><td>0</td><td>0.58618927</td><td>-0.6386528</td><td>1.2248421</td><td>--</td><td>--</td><td>0</td><td>--</td><td>--</td><td>--</td><td>NOT_AVAILABLE</td><td>175.1670169453992</td><td>28.05596952067353</td><td>110.47115045300616</td><td>22.50561270730388</td><td>--</td><td>--</td><td>--</td><td>--</td><td>--</td><td>--</td><td>--</td><td>--</td><td>--</td><td>--</td><td>--</td><td>--</td><td>--</td><td>--</td><td>--</td><td>--</td><td>--</td><td>http://geadata.esac.esa.int/data-server/datalink/links?ID=925907232901783296</td><td>--</td><td>QSO</td><td>0.6251251737934274</td><td>0.7714472568239272</td><td>0.0</td><td>1.3397949986924718</td><td>1.3397949986924718</td><td>1.3397949986924718</td></tr>\n",
       "<tr><td>371291951709404275</td><td>1635721458409799680</td><td>Gaia DR2 3712919517094042752</td><td>3712919517094042752</td><td>526963965</td><td>2015.5</td><td>203.0945134669444</td><td>0.6935944770945955</td><td>3.7943287398867827</td><td>0.39047176680840023</td><td>0.5194277346129254</td><td>0.7851027427155806</td><td>0.66160476</td><td>-2.229823554009805</td><td>1.2473276242143507</td><td>0.17970566921795844</td><td>0.6823565896864803</td><td>0.11052831</td><td>-0.5340838</td><td>0.0027096227</td><td>0.00991757</td><td>-0.061453767</td><td>0.25792313</td><td>0.10935558</td><td>-0.12705994</td><td>0.2888308</td><td>0.06943091</td><td>134</td><td>0</td><td>132</td><td>2</td><td>1.5407331</td><td>152.4177</td><td>0.7788047910688408</td><td>0.47424096334394295</td><td>31</td><td>True</td><td>0.07816434</td><td>1.8544843675425366</td><td>0.1400274526611641</td><td>0.096521154</td><td>15</td><td>8</td><td>1.102158</td><td>3</td><td>18</td><td>False</td><td>136</td><td>234.63505576580516</td><td>2.133738129075506</td><td>109.96432</td><td>19.762384</td><td>5</td><td>261.22501095047664</td><td>18.986028333485176</td><td>13.758802</td><td>19.308851</td><td>5</td><td>458.10111174259</td><td>20.89415223968398</td><td>21.924849</td><td>18.109516</td><td>3.0657232</td><td>0</td><td>1.1993351</td><td>-0.45353317</td><td>1.6528683</td><td>--</td><td>--</td><td>0</td><td>--</td><td>--</td><td>--</td><td>NOT_AVAILABLE</td><td>327.4426885420668</td><td>64.69977012560987</td><td>199.92844686582367</td><td>12.497688951607643</td><td>--</td><td>--</td><td>--</td><td>--</td><td>--</td><td>--</td><td>--</td><td>--</td><td>--</td><td>--</td><td>--</td><td>--</td><td>--</td><td>--</td><td>--</td><td>--</td><td>--</td><td>http://geadata.esac.esa.int/data-server/datalink/links?ID=3712919517094042752</td><td>--</td><td>QSO</td><td>2.23705324245222</td><td>1.244504274986119</td><td>0.0</td><td>1.1045631631896802</td><td>1.1045631631896802</td><td>1.1045631631896802</td></tr>\n",
       "<tr><td>371291951709404275</td><td>1635721458409799680</td><td>Gaia DR2 3712919517094734592</td><td>3712919517094734592</td><td>1001980511</td><td>2015.5</td><td>203.0942342526801</td><td>1.14848478732722</td><td>3.794467021667691</td><td>0.7866436047019214</td><td>-1.3434225695836297</td><td>1.3617931024869363</td><td>-0.98651004</td><td>2.7630162098393165</td><td>2.4444954164529116</td><td>2.9359971124624886</td><td>1.3809837751526812</td><td>-0.1568217</td><td>-0.3078687</td><td>-0.08419777</td><td>-0.05337662</td><td>-0.091196984</td><td>-0.0030895048</td><td>0.10514046</td><td>-0.012849836</td><td>0.15884498</td><td>-0.19369121</td><td>167</td><td>0</td><td>164</td><td>3</td><td>16.631388</td><td>676.4483</td><td>6.733097502154305</td><td>29.287859141852934</td><td>31</td><td>False</td><td>0.015819693</td><td>1.6146237599485331</td><td>0.24684216780860446</td><td>-0.008815385</td><td>19</td><td>10</td><td>2.1616418</td><td>0</td><td>19</td><td>False</td><td>167</td><td>223.68340230192914</td><td>2.372862470337356</td><td>94.26733</td><td>19.814281</td><td>13</td><td>254.01406338716384</td><td>17.330913574701565</td><td>14.656704</td><td>19.339243</td><td>12</td><td>517.7337998719165</td><td>19.144156543444655</td><td>27.04396</td><td>17.976654</td><td>3.4501793</td><td>0</td><td>1.3625889</td><td>-0.47503853</td><td>1.8376274</td><td>--</td><td>--</td><td>0</td><td>--</td><td>--</td><td>--</td><td>NOT_AVAILABLE</td><td>327.4422026326632</td><td>64.70000168373411</td><td>199.92812921787387</td><td>12.49771274013958</td><td>--</td><td>--</td><td>--</td><td>--</td><td>--</td><td>--</td><td>--</td><td>--</td><td>--</td><td>--</td><td>--</td><td>--</td><td>--</td><td>--</td><td>--</td><td>--</td><td>--</td><td>http://geadata.esac.esa.int/data-server/datalink/links?ID=3712919517094734592</td><td>--</td><td>QSO</td><td>4.031666853823973</td><td>1.9539606342688383</td><td>0.0</td><td>1.1045631631896802</td><td>1.1045631631896802</td><td>1.1045631631896802</td></tr>\n",
       "<tr><td>211612650409009984</td><td>1635721458409799680</td><td>Gaia DR2 2116126504090099840</td><td>2116126504090099840</td><td>949455914</td><td>2015.5</td><td>270.00422784771416</td><td>0.39216403803609723</td><td>46.43510020210154</td><td>0.4917963887692366</td><td>0.07098162367762244</td><td>0.4520569048258049</td><td>0.15701923</td><td>0.2726795165570081</td><td>0.7467151283538112</td><td>-1.0043350578332924</td><td>1.029026808085358</td><td>0.2878701</td><td>0.5003418</td><td>-0.04314342</td><td>-0.3263584</td><td>0.3321714</td><td>-0.3737481</td><td>-0.4944831</td><td>-0.06515917</td><td>-0.068494014</td><td>0.23614852</td><td>142</td><td>0</td><td>142</td><td>0</td><td>-0.62935513</td><td>126.2119</td><td>0.0</td><td>0.0</td><td>31</td><td>True</td><td>0.11768673</td><td>1.4804387577821407</td><td>0.111036561006803</td><td>0.09151417</td><td>16</td><td>11</td><td>0.98391414</td><td>3</td><td>18</td><td>True</td><td>158</td><td>255.68701483160822</td><td>1.4573652068542289</td><td>175.4447</td><td>19.669094</td><td>15</td><td>163.79064818894818</td><td>9.814419006978527</td><td>16.688776</td><td>19.815666</td><td>17</td><td>172.55420540373447</td><td>9.81789671914348</td><td>17.575476</td><td>19.169605</td><td>1.3154553</td><td>0</td><td>0.64606094</td><td>0.14657211</td><td>0.49948883</td><td>--</td><td>--</td><td>0</td><td>--</td><td>--</td><td>--</td><td>NOT_AVAILABLE</td><td>73.48631714811762</td><td>27.831216074076018</td><td>270.00849902179516</td><td>69.87438091024943</td><td>--</td><td>--</td><td>--</td><td>--</td><td>--</td><td>--</td><td>--</td><td>--</td><td>--</td><td>--</td><td>--</td><td>--</td><td>--</td><td>--</td><td>--</td><td>--</td><td>--</td><td>http://geadata.esac.esa.int/data-server/datalink/links?ID=2116126504090099840</td><td>--</td><td>QSO</td><td>1.0406935318059618</td><td>1.012165780669307</td><td>2.2207404040759178</td><td>3.5302025302643227</td><td>4.306518211102646</td><td>4.306518211102646</td></tr>\n",
       "<tr><td>...</td><td>...</td><td>...</td><td>...</td><td>...</td><td>...</td><td>...</td><td>...</td><td>...</td><td>...</td><td>...</td><td>...</td><td>...</td><td>...</td><td>...</td><td>...</td><td>...</td><td>...</td><td>...</td><td>...</td><td>...</td><td>...</td><td>...</td><td>...</td><td>...</td><td>...</td><td>...</td><td>...</td><td>...</td><td>...</td><td>...</td><td>...</td><td>...</td><td>...</td><td>...</td><td>...</td><td>...</td><td>...</td><td>...</td><td>...</td><td>...</td><td>...</td><td>...</td><td>...</td><td>...</td><td>...</td><td>...</td><td>...</td><td>...</td><td>...</td><td>...</td><td>...</td><td>...</td><td>...</td><td>...</td><td>...</td><td>...</td><td>...</td><td>...</td><td>...</td><td>...</td><td>...</td><td>...</td><td>...</td><td>...</td><td>...</td><td>...</td><td>...</td><td>...</td><td>...</td><td>...</td><td>...</td><td>...</td><td>...</td><td>...</td><td>...</td><td>...</td><td>...</td><td>...</td><td>...</td><td>...</td><td>...</td><td>...</td><td>...</td><td>...</td><td>...</td><td>...</td><td>...</td><td>...</td><td>...</td><td>...</td><td>...</td><td>...</td><td>...</td><td>...</td><td>...</td><td>...</td><td>...</td><td>...</td><td>...</td><td>...</td><td>...</td><td>...</td><td>...</td></tr>\n",
       "<tr><td>595658270425753177</td><td>1635721458409799680</td><td>Gaia DR2 5956582704220114688</td><td>5956582704220114688</td><td>58357134</td><td>2015.5</td><td>269.94523309233784</td><td>0.563275837362858</td><td>-43.13704794937489</td><td>0.7854445729860392</td><td>-0.4527759481792356</td><td>0.9397824523747771</td><td>-0.48178804</td><td>0.7021077713083839</td><td>1.3395769311712995</td><td>-1.3567259378122412</td><td>1.0986112924352578</td><td>0.09217373</td><td>0.15665063</td><td>-0.008216638</td><td>-0.23170911</td><td>-0.7741188</td><td>-0.18398696</td><td>-0.041250102</td><td>0.017755495</td><td>0.04703436</td><td>0.54099506</td><td>112</td><td>0</td><td>111</td><td>1</td><td>0.9034478</td><td>118.98454</td><td>0.0</td><td>0.0</td><td>31</td><td>False</td><td>0.08801169</td><td>1.6476721228018898</td><td>0.13508995537385168</td><td>0.16933236</td><td>13</td><td>9</td><td>1.3534981</td><td>0</td><td>15</td><td>False</td><td>111</td><td>222.25803774712804</td><td>1.6714906745445492</td><td>132.96996</td><td>19.821222</td><td>0</td><td>--</td><td>--</td><td>--</td><td>--</td><td>0</td><td>--</td><td>--</td><td>--</td><td>--</td><td>--</td><td>2</td><td>--</td><td>--</td><td>--</td><td>--</td><td>--</td><td>0</td><td>--</td><td>--</td><td>--</td><td>NOT_AVAILABLE</td><td>349.09776459323115</td><td>-9.592023498252063</td><td>269.9575634801071</td><td>-19.697775181385662</td><td>--</td><td>--</td><td>--</td><td>--</td><td>--</td><td>--</td><td>--</td><td>--</td><td>--</td><td>--</td><td>--</td><td>--</td><td>--</td><td>--</td><td>--</td><td>--</td><td>--</td><td>http://geadata.esac.esa.int/data-server/datalink/links?ID=5956582704220114688</td><td>--</td><td>QSO</td><td>1.5276323487227321</td><td>1.1537125338104708</td><td>1.5518476250568767</td><td>1.8114362745053205</td><td>2.3921748899398088</td><td>2.3921748899398088</td></tr>\n",
       "<tr><td>595658270425753177</td><td>1635721458409799680</td><td>Gaia DR2 5956582704257531776</td><td>5956582704257531776</td><td>461360327</td><td>2015.5</td><td>269.9448020237528</td><td>0.21617109322085815</td><td>-43.136615594097435</td><td>0.23185826890348427</td><td>-0.06926778784286344</td><td>0.2904176033912706</td><td>-0.23851098</td><td>-0.1249917461688504</td><td>0.40946894221787566</td><td>-0.3518637831539271</td><td>0.3419636305560305</td><td>0.28574675</td><td>-0.014672556</td><td>-0.2986916</td><td>-0.3872355</td><td>-0.58633536</td><td>-0.21529007</td><td>-0.425558</td><td>-0.19834602</td><td>0.30692643</td><td>0.22978602</td><td>142</td><td>0</td><td>142</td><td>0</td><td>0.18329841</td><td>139.38112</td><td>0.04450700029508144</td><td>0.0070064924516901</td><td>31</td><td>True</td><td>0.462947</td><td>1.5856911278504073</td><td>0.0525421059915064</td><td>0.117755614</td><td>16</td><td>11</td><td>0.40317586</td><td>3</td><td>16</td><td>False</td><td>138</td><td>676.2449641032475</td><td>2.8776456320463994</td><td>234.99939</td><td>18.613106</td><td>13</td><td>620.6340773697996</td><td>27.112759694880136</td><td>22.890848</td><td>18.369299</td><td>14</td><td>681.6016291925542</td><td>35.31758090743214</td><td>19.299215</td><td>17.678093</td><td>1.9256864</td><td>0</td><td>0.691206</td><td>-0.24380684</td><td>0.9350128</td><td>--</td><td>--</td><td>0</td><td>--</td><td>--</td><td>--</td><td>NOT_AVAILABLE</td><td>349.0979987023566</td><td>-9.591541218163135</td><td>269.95722918283593</td><td>-19.697342953643776</td><td>--</td><td>--</td><td>--</td><td>--</td><td>--</td><td>--</td><td>--</td><td>--</td><td>--</td><td>--</td><td>--</td><td>--</td><td>--</td><td>--</td><td>--</td><td>--</td><td>--</td><td>http://geadata.esac.esa.int/data-server/datalink/links?ID=5956582704257531776</td><td>--</td><td>QSO</td><td>0.3734046846328152</td><td>0.35017541909520356</td><td>0.8403274885703335</td><td>1.5518476250568767</td><td>3.3632826254240604</td><td>3.3632826254240604</td></tr>\n",
       "<tr><td>595658270425753177</td><td>1635721458409799680</td><td>Gaia DR2 5956582704220115456</td><td>5956582704220115456</td><td>214674931</td><td>2015.5</td><td>269.9445685998545</td><td>0.32451149219390885</td><td>-43.13616570702696</td><td>0.34437005165229445</td><td>0.5340539945631156</td><td>0.43325989314088875</td><td>1.2326412</td><td>-0.5705015764016778</td><td>0.6158529402473971</td><td>0.6597133004106746</td><td>0.516929433473027</td><td>0.29690164</td><td>-0.00095060637</td><td>-0.2913053</td><td>-0.4004654</td><td>-0.5643749</td><td>-0.23517987</td><td>-0.426596</td><td>-0.20957176</td><td>0.31102923</td><td>0.27814564</td><td>142</td><td>0</td><td>141</td><td>1</td><td>2.566276</td><td>182.0555</td><td>0.7841475082254464</td><td>1.200935939824703</td><td>31</td><td>False</td><td>0.20756951</td><td>1.5833017768063107</td><td>0.07734804953384815</td><td>0.11360097</td><td>16</td><td>11</td><td>0.613954</td><td>0</td><td>16</td><td>False</td><td>137</td><td>418.8148107167998</td><td>1.5924600087216094</td><td>262.99863</td><td>19.13331</td><td>0</td><td>--</td><td>--</td><td>--</td><td>--</td><td>0</td><td>--</td><td>--</td><td>--</td><td>--</td><td>--</td><td>2</td><td>--</td><td>--</td><td>--</td><td>--</td><td>--</td><td>0</td><td>--</td><td>--</td><td>--</td><td>NOT_AVAILABLE</td><td>349.0983179871439</td><td>-9.591177487341625</td><td>269.9570480657947</td><td>-19.696893136069683</td><td>--</td><td>--</td><td>--</td><td>--</td><td>--</td><td>--</td><td>--</td><td>--</td><td>--</td><td>--</td><td>--</td><td>--</td><td>--</td><td>--</td><td>--</td><td>--</td><td>--</td><td>http://geadata.esac.esa.int/data-server/datalink/links?ID=5956582704220115456</td><td>--</td><td>QSO</td><td>0.8721775549826677</td><td>0.5613926986774844</td><td>0.8403274885703335</td><td>2.3921748899398088</td><td>4.2036089679979405</td><td>4.2036089679979405</td></tr>\n",
       "<tr><td>381787882836266956</td><td>1635721458409799680</td><td>Gaia DR2 3817878828361980544</td><td>3817878828361980544</td><td>142792135</td><td>2015.5</td><td>169.57066712476234</td><td>0.32432388057869027</td><td>7.766250271192906</td><td>0.31937928788342845</td><td>0.7446730015796343</td><td>0.32896139111985406</td><td>2.2637093</td><td>-2.138326453317827</td><td>0.6621902664323244</td><td>-1.5594158901642006</td><td>0.4801370418483459</td><td>-0.4668381</td><td>-0.19257662</td><td>-0.3850874</td><td>0.5377606</td><td>-0.21360289</td><td>0.53440595</td><td>-0.6483098</td><td>-0.17601794</td><td>-0.1625227</td><td>-0.33729035</td><td>71</td><td>0</td><td>68</td><td>3</td><td>15.037748</td><td>425.0501</td><td>1.1232012949224193</td><td>21.46110639347767</td><td>31</td><td>False</td><td>0.59640396</td><td>1.6453524180855201</td><td>0.053585874875667405</td><td>0.043894157</td><td>8</td><td>7</td><td>0.67676634</td><td>0</td><td>18</td><td>False</td><td>113</td><td>2601.8674171141292</td><td>35.097285088442746</td><td>74.13301</td><td>17.150152</td><td>7</td><td>3344.6366654711615</td><td>38.872754837366614</td><td>86.04064</td><td>16.540516</td><td>7</td><td>3439.0761649203387</td><td>50.033709201201724</td><td>68.73518</td><td>15.920815</td><td>2.6072476</td><td>0</td><td>0.61970043</td><td>-0.6096363</td><td>1.2293367</td><td>--</td><td>--</td><td>0</td><td>--</td><td>--</td><td>--</td><td>NOT_AVAILABLE</td><td>249.88779663356968</td><td>60.64450212613931</td><td>167.37219300414927</td><td>3.0171621830451585</td><td>--</td><td>--</td><td>--</td><td>--</td><td>--</td><td>--</td><td>--</td><td>--</td><td>--</td><td>--</td><td>--</td><td>--</td><td>--</td><td>--</td><td>--</td><td>--</td><td>--</td><td>http://geadata.esac.esa.int/data-server/datalink/links?ID=3817878828361980544</td><td>--</td><td>QSO</td><td>2.6465483066544246</td><td>0.6052216862254748</td><td>0.0</td><td>1.871571126066265</td><td>1.871571126066265</td><td>1.871571126066265</td></tr>\n",
       "<tr><td>381787882836266956</td><td>1635721458409799680</td><td>Gaia DR2 3817878828361980160</td><td>3817878828361980160</td><td>305243770</td><td>2015.5</td><td>169.57015797740183</td><td>0.43707313750894816</td><td>7.766143410058355</td><td>0.28820938517219497</td><td>0.22314012227726657</td><td>0.694082097008949</td><td>0.3214895</td><td>-0.2764482154738277</td><td>0.6203557362531334</td><td>-0.7790382747595316</td><td>0.6183650072742263</td><td>-0.060088947</td><td>-0.6933282</td><td>-0.22440775</td><td>0.58980876</td><td>-0.23271991</td><td>0.0597511</td><td>0.13215871</td><td>0.3165192</td><td>-0.7670857</td><td>-0.30653173</td><td>102</td><td>0</td><td>101</td><td>1</td><td>1.6253972</td><td>119.556</td><td>0.6784788312280571</td><td>0.9407977427137306</td><td>31</td><td>False</td><td>0.25751936</td><td>1.5726050291883977</td><td>0.08751743099631647</td><td>-0.08791904</td><td>12</td><td>8</td><td>0.79636896</td><td>0</td><td>18</td><td>False</td><td>140</td><td>499.8156495305712</td><td>5.010459281417688</td><td>99.754456</td><td>18.941341</td><td>0</td><td>--</td><td>--</td><td>--</td><td>--</td><td>0</td><td>--</td><td>--</td><td>--</td><td>--</td><td>--</td><td>2</td><td>--</td><td>--</td><td>--</td><td>--</td><td>--</td><td>0</td><td>--</td><td>--</td><td>--</td><td>NOT_AVAILABLE</td><td>249.88723658443618</td><td>60.64406562034077</td><td>167.37177012490048</td><td>3.016866235078292</td><td>--</td><td>--</td><td>--</td><td>--</td><td>--</td><td>--</td><td>--</td><td>--</td><td>--</td><td>--</td><td>--</td><td>--</td><td>--</td><td>--</td><td>--</td><td>--</td><td>--</td><td>http://geadata.esac.esa.int/data-server/datalink/links?ID=3817878828361980160</td><td>--</td><td>QSO</td><td>0.8266342899849796</td><td>0.6185879704322794</td><td>0.0</td><td>1.871571126066265</td><td>1.871571126066265</td><td>1.871571126066265</td></tr>\n",
       "<tr><td>381787882836266956</td><td>1635721458409799680</td><td>Gaia DR2 3817878828361980288</td><td>3817878828361980288</td><td>1549084708</td><td>2015.5</td><td>169.5702541359625</td><td>0.3157230916549146</td><td>7.76668844842734</td><td>0.18722446491634967</td><td>0.40470452760311665</td><td>0.33266984784317016</td><td>1.2165351</td><td>0.1509397912880283</td><td>0.4436100258861104</td><td>-0.008645491822685685</td><td>0.33019926371638075</td><td>-0.29806852</td><td>-0.68515533</td><td>-0.052011367</td><td>0.4929883</td><td>0.31919196</td><td>0.28335643</td><td>-0.32208753</td><td>0.10716324</td><td>-0.4962051</td><td>-0.09879846</td><td>109</td><td>0</td><td>108</td><td>1</td><td>0.17838384</td><td>104.90525</td><td>0.0</td><td>0.0</td><td>31</td><td>False</td><td>0.52414316</td><td>1.6618769245727898</td><td>0.05880518417359198</td><td>0.05212493</td><td>13</td><td>9</td><td>0.43266058</td><td>0</td><td>18</td><td>False</td><td>142</td><td>694.8117376502662</td><td>4.5041302960184915</td><td>154.26102</td><td>18.583698</td><td>6</td><td>548.3384797815644</td><td>30.448954489341585</td><td>18.00845</td><td>18.503767</td><td>6</td><td>556.1823170267352</td><td>19.01509460564653</td><td>29.249516</td><td>17.898876</td><td>1.5896691</td><td>0</td><td>0.6048908</td><td>-0.07993126</td><td>0.6848221</td><td>--</td><td>--</td><td>0</td><td>--</td><td>--</td><td>--</td><td>NOT_AVAILABLE</td><td>249.88657387546758</td><td>60.644513501434375</td><td>167.3716440939651</td><td>3.0174050343420804</td><td>--</td><td>--</td><td>--</td><td>--</td><td>--</td><td>--</td><td>--</td><td>--</td><td>--</td><td>--</td><td>--</td><td>--</td><td>--</td><td>--</td><td>--</td><td>--</td><td>--</td><td>http://geadata.esac.esa.int/data-server/datalink/links?ID=3817878828361980288</td><td>--</td><td>QSO</td><td>0.15118718571006498</td><td>0.44328645851696696</td><td>1.9605224442677263</td><td>1.9605224442677263</td><td>2.148772199655565</td><td>2.148772199655565</td></tr>\n",
       "<tr><td>291777012397956441</td><td>1635721458409799680</td><td>Gaia DR2 2917770123979564416</td><td>2917770123979564416</td><td>1297336861</td><td>2015.5</td><td>90.00107670536025</td><td>0.08434599539790708</td><td>-21.961304356228492</td><td>0.18211160803222937</td><td>-0.17060956053768378</td><td>0.22867248649802563</td><td>-0.74608696</td><td>0.36412560095519636</td><td>0.16570854086995615</td><td>-0.36804519856026374</td><td>0.40646142768833593</td><td>0.111534245</td><td>0.08363704</td><td>0.56605697</td><td>0.21927376</td><td>-0.08768988</td><td>0.24396232</td><td>-0.28081837</td><td>0.09293488</td><td>0.27586803</td><td>0.054814663</td><td>678</td><td>0</td><td>668</td><td>10</td><td>0.83288014</td><td>693.1066</td><td>0.0</td><td>0.0</td><td>31</td><td>True</td><td>0.38100916</td><td>1.6402648069642911</td><td>0.028862257318809988</td><td>-0.054945637</td><td>77</td><td>16</td><td>0.36664924</td><td>3</td><td>81</td><td>False</td><td>698</td><td>541.7626044171582</td><td>0.8207281805625501</td><td>660.0999</td><td>18.853844</td><td>72</td><td>348.4841638761001</td><td>5.170433835902523</td><td>67.39941</td><td>18.99593</td><td>73</td><td>340.2410130274346</td><td>4.502672075978226</td><td>75.56425</td><td>18.432453</td><td>1.2712674</td><td>0</td><td>0.56347656</td><td>0.14208603</td><td>0.42139053</td><td>--</td><td>--</td><td>0</td><td>--</td><td>--</td><td>--</td><td>NOT_AVAILABLE</td><td>227.72192398957247</td><td>-20.745471247675912</td><td>90.00144251151399</td><td>-45.40058518409331</td><td>--</td><td>--</td><td>--</td><td>--</td><td>--</td><td>--</td><td>--</td><td>--</td><td>--</td><td>--</td><td>--</td><td>--</td><td>--</td><td>--</td><td>--</td><td>--</td><td>--</td><td>http://geadata.esac.esa.int/data-server/datalink/links?ID=2917770123979564416</td><td>--</td><td>QSO</td><td>0.517730355932745</td><td>0.3115646376651675</td><td>2.4832661583310416</td><td>4.167019425351503</td><td>4.19732434930485</td><td>4.19732434930485</td></tr>\n",
       "<tr><td>102266363767077619</td><td>1635721458409799680</td><td>Gaia DR2 1022663637669586176</td><td>1022663637669586176</td><td>1533163525</td><td>2015.5</td><td>138.2541767668402</td><td>0.15502056968766859</td><td>52.991386512228985</td><td>0.21362775247921872</td><td>0.21579477593370255</td><td>0.23846720854069386</td><td>0.90492433</td><td>-0.03400176958887213</td><td>0.29112454568625695</td><td>-3.4171845342489036</td><td>0.4659208204718832</td><td>-0.31658694</td><td>-0.12131757</td><td>0.07138772</td><td>0.30395794</td><td>-0.03549489</td><td>0.23577917</td><td>-0.5600776</td><td>0.31841794</td><td>-0.012875308</td><td>-0.28230414</td><td>197</td><td>0</td><td>177</td><td>20</td><td>33.078197</td><td>1800.8575</td><td>1.3311143236029288</td><td>86.94276291876083</td><td>31</td><td>False</td><td>0.48757175</td><td>1.6051893060309126</td><td>0.03987025678758906</td><td>-0.21933012</td><td>20</td><td>12</td><td>0.443141</td><td>0</td><td>25</td><td>False</td><td>216</td><td>5112.843923563445</td><td>30.785602115577916</td><td>166.07906</td><td>16.41671</td><td>24</td><td>3651.852310078031</td><td>80.01751347829301</td><td>45.638165</td><td>16.445105</td><td>23</td><td>4832.380157990471</td><td>157.8008308990976</td><td>30.623287</td><td>15.5515175</td><td>1.6593959</td><td>0</td><td>0.8935871</td><td>0.0283947</td><td>0.8651924</td><td>--</td><td>--</td><td>0</td><td>--</td><td>--</td><td>--</td><td>NOT_AVAILABLE</td><td>164.5810610258526</td><td>42.40856728782108</td><td>123.2364683541009</td><td>34.975623362041404</td><td>102001</td><td>5215.175</td><td>4439.5</td><td>7020.6665</td><td>--</td><td>--</td><td>--</td><td>--</td><td>--</td><td>--</td><td>--</td><td>--</td><td>--</td><td>--</td><td>--</td><td>--</td><td>--</td><td>http://geadata.esac.esa.int/data-server/datalink/links?ID=1022663637669586176</td><td>--</td><td>QSO</td><td>3.4173536927636086</td><td>0.4659067618841152</td><td>0.0</td><td>1.6807143832501987</td><td>1.6807143832501987</td><td>1.6807143832501987</td></tr>\n",
       "<tr><td>102266363767077619</td><td>1635721458409799680</td><td>Gaia DR2 1022663637670776192</td><td>1022663637670776192</td><td>1373021356</td><td>2015.5</td><td>138.2546321106608</td><td>0.07550390847067776</td><td>52.991248358340165</td><td>0.1353024599150086</td><td>-0.046445817536499484</td><td>0.13609558921874715</td><td>-0.3412735</td><td>-0.16785216926284327</td><td>0.14723915220280404</td><td>0.7704789851509476</td><td>0.24915934261775846</td><td>-0.12198397</td><td>-0.25153136</td><td>0.11718712</td><td>0.20213953</td><td>0.017064758</td><td>0.12172027</td><td>-0.24852996</td><td>0.35685122</td><td>-0.29177853</td><td>-0.16797574</td><td>137</td><td>0</td><td>135</td><td>2</td><td>3.3142292</td><td>190.23697</td><td>0.3053362100783001</td><td>1.904625896050909</td><td>31</td><td>True</td><td>2.0868566</td><td>1.5416750007390543</td><td>0.024652527205710616</td><td>-0.20764685</td><td>16</td><td>11</td><td>0.23044738</td><td>3</td><td>28</td><td>False</td><td>143</td><td>2950.3046652255266</td><td>17.54444740832563</td><td>168.16173</td><td>17.013699</td><td>2</td><td>2841.394891064002</td><td>696.6409067314929</td><td>4.078708</td><td>16.71756</td><td>2</td><td>3973.929147166977</td><td>1036.1247990587362</td><td>3.835377</td><td>15.763869</td><td>2.3100407</td><td>0</td><td>0.9536905</td><td>-0.29613876</td><td>1.2498293</td><td>--</td><td>--</td><td>0</td><td>--</td><td>--</td><td>--</td><td>NOT_AVAILABLE</td><td>164.5811759169383</td><td>42.408862270016435</td><td>123.23684121004577</td><td>34.97559386320973</td><td>112011</td><td>5095.6333</td><td>4259.0</td><td>6938.0</td><td>--</td><td>--</td><td>--</td><td>--</td><td>--</td><td>--</td><td>--</td><td>--</td><td>--</td><td>--</td><td>--</td><td>--</td><td>--</td><td>http://geadata.esac.esa.int/data-server/datalink/links?ID=1022663637670776192</td><td>--</td><td>QSO</td><td>0.7885507068575085</td><td>0.24545835838880425</td><td>0.0</td><td>1.6807143832501987</td><td>1.6807143832501987</td><td>1.6807143832501987</td></tr>\n",
       "<tr><td>288919326701831923</td><td>1635721458409799680</td><td>Gaia DR2 2889193267018319232</td><td>2889193267018319232</td><td>43090138</td><td>2015.5</td><td>89.99991739029414</td><td>0.7208088401421843</td><td>-34.42541361855085</td><td>0.9598615706986138</td><td>0.6928904050734517</td><td>0.957275720868514</td><td>0.72381485</td><td>-0.3681917527705098</td><td>1.5079505264163622</td><td>0.6410884377834972</td><td>1.8739138696730677</td><td>0.20060723</td><td>0.11393065</td><td>-0.22534256</td><td>-0.087542765</td><td>0.36438236</td><td>-0.007645765</td><td>-0.49750784</td><td>0.2040775</td><td>-0.039211083</td><td>0.1774438</td><td>204</td><td>0</td><td>202</td><td>2</td><td>4.202761</td><td>291.88464</td><td>3.4985097484015353</td><td>3.0664431148909417</td><td>31</td><td>True</td><td>0.019309118</td><td>1.6754761380717684</td><td>0.22780268450456653</td><td>-0.12624109</td><td>24</td><td>14</td><td>1.7625381</td><td>3</td><td>26</td><td>False</td><td>223</td><td>116.1501717059913</td><td>1.1385607392686632</td><td>102.01491</td><td>20.525816</td><td>19</td><td>87.39604029543878</td><td>7.73598982646793</td><td>11.297332</td><td>20.49766</td><td>19</td><td>226.63434603929514</td><td>9.523408661293438</td><td>23.797607</td><td>18.873606</td><td>2.7036583</td><td>0</td><td>1.624054</td><td>-0.02815628</td><td>1.6522102</td><td>--</td><td>--</td><td>0</td><td>--</td><td>--</td><td>--</td><td>NOT_AVAILABLE</td><td>240.47686493564865</td><td>-24.908445723307533</td><td>89.99989576755702</td><td>-57.864694451859854</td><td>--</td><td>--</td><td>--</td><td>--</td><td>--</td><td>--</td><td>--</td><td>--</td><td>--</td><td>--</td><td>--</td><td>--</td><td>--</td><td>--</td><td>--</td><td>--</td><td>--</td><td>http://geadata.esac.esa.int/data-server/datalink/links?ID=2889193267018319232</td><td>--</td><td>QSO</td><td>0.739296660257508</td><td>1.7901332930646248</td><td>0.9444441112664942</td><td>1.8350779644802588</td><td>3.237242833864966</td><td>3.237242833864966</td></tr>\n",
       "</table>"
      ],
      "text/plain": [
       "<Table masked=True length=50>\n",
       "     qso_name          solution_id     ...         n3               n3max       \n",
       "                                       ...       arcsec             arcsec      \n",
       "     bytes18              int64        ...      float64            float64      \n",
       "------------------ ------------------- ... ------------------ ------------------\n",
       "286815888806335744 1635721458409799680 ... 3.2846791543599836 3.2846791543599836\n",
       "286815888806335744 1635721458409799680 ...  4.001604378767227  4.001604378767227\n",
       "286815888806335744 1635721458409799680 ... 4.5472561731039605 4.5472561731039605\n",
       "286815064169288832 1635721458409799680 ... 4.5472561731039605 4.5472561731039605\n",
       "925907232901783296 1635721458409799680 ... 1.3397949986924718 1.3397949986924718\n",
       "925907232901783296 1635721458409799680 ... 1.3397949986924718 1.3397949986924718\n",
       "371291951709404275 1635721458409799680 ... 1.1045631631896802 1.1045631631896802\n",
       "371291951709404275 1635721458409799680 ... 1.1045631631896802 1.1045631631896802\n",
       "211612650409009984 1635721458409799680 ...  4.306518211102646  4.306518211102646\n",
       "               ...                 ... ...                ...                ...\n",
       "595658270425753177 1635721458409799680 ... 2.3921748899398088 2.3921748899398088\n",
       "595658270425753177 1635721458409799680 ... 3.3632826254240604 3.3632826254240604\n",
       "595658270425753177 1635721458409799680 ... 4.2036089679979405 4.2036089679979405\n",
       "381787882836266956 1635721458409799680 ...  1.871571126066265  1.871571126066265\n",
       "381787882836266956 1635721458409799680 ...  1.871571126066265  1.871571126066265\n",
       "381787882836266956 1635721458409799680 ...  2.148772199655565  2.148772199655565\n",
       "291777012397956441 1635721458409799680 ...   4.19732434930485   4.19732434930485\n",
       "102266363767077619 1635721458409799680 ... 1.6807143832501987 1.6807143832501987\n",
       "102266363767077619 1635721458409799680 ... 1.6807143832501987 1.6807143832501987\n",
       "288919326701831923 1635721458409799680 ...  3.237242833864966  3.237242833864966"
      ]
     },
     "execution_count": 100,
     "metadata": {},
     "output_type": "execute_result"
    }
   ],
   "source": [
    "tout"
   ]
  },
  {
   "cell_type": "code",
   "execution_count": null,
   "metadata": {},
   "outputs": [],
   "source": []
  }
 ],
 "metadata": {
  "kernelspec": {
   "display_name": "Python 3",
   "language": "python",
   "name": "python3"
  },
  "language_info": {
   "codemirror_mode": {
    "name": "ipython",
    "version": 3
   },
   "file_extension": ".py",
   "mimetype": "text/x-python",
   "name": "python",
   "nbconvert_exporter": "python",
   "pygments_lexer": "ipython3",
   "version": "3.6.4"
  }
 },
 "nbformat": 4,
 "nbformat_minor": 2
}
