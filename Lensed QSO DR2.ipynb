{
 "cells": [
  {
   "cell_type": "markdown",
   "metadata": {},
   "source": [
    "# Lensed QSO work with Gaia DR2\n",
    "\n",
    "Using the LQSO Castle match with DR2 as the learning set and apply this to LQSO allwise 2.\n",
    "\n",
    "Trying with machine learning classification.\n",
    "\n",
    "The idea is to use the following set of _features_ for each LQSO:\n",
    "\n",
    "* the total proper motion and its error\n",
    "* the total parallax and its error\n",
    "* the astrometric colour\n",
    "* the distances to the nearest 3 neighbours.\n",
    "\n",
    "This makes 6 _features_ to feed to the SVM/PCA classification.\n"
   ]
  },
  {
   "cell_type": "code",
   "execution_count": 1,
   "metadata": {
    "collapsed": true
   },
   "outputs": [],
   "source": [
    "import os\n",
    "import numpy as np\n",
    "\n",
    "from astropy.table import Table\n",
    "\n",
    "import matplotlib.pyplot as plt\n",
    "%matplotlib inline\n",
    "\n",
    "from astropy.coordinates import SkyCoord \n",
    "import astropy.units as u\n",
    "\n",
    "from sklearn.neighbors import NearestNeighbors\n",
    "from sklearn import svm, tree\n",
    "#from IPython.display import Math\n",
    "\n",
    "D2R = np.pi/180.0\n",
    "\n",
    "wdir = os.path.expanduser('~') + '/Dropbox/Work/Gaia-QSO'"
   ]
  },
  {
   "cell_type": "code",
   "execution_count": 3,
   "metadata": {},
   "outputs": [
    {
     "name": "stdout",
     "output_type": "stream",
     "text": [
      "Downloading http://vospace.esac.esa.int/vospace/sh/9da5bd4b841f4032ee3f94e2f357067a554434?dl=1 [Done]\n"
     ]
    },
    {
     "name": "stderr",
     "output_type": "stream",
     "text": [
      "WARNING: W27: http://vospace.esac.esa.int/vospace/sh/9da5bd4b841f4032ee3f94e2f357067a554434?dl=1:3:0: W27: COOSYS deprecated in VOTable 1.2 [astropy.io.votable.tree]\n",
      "WARNING: W35: http://vospace.esac.esa.int/vospace/sh/9da5bd4b841f4032ee3f94e2f357067a554434?dl=1:5:0: W35: 'value' attribute required for INFO elements [astropy.io.votable.tree]\n",
      "WARNING: W35: http://vospace.esac.esa.int/vospace/sh/9da5bd4b841f4032ee3f94e2f357067a554434?dl=1:12:0: W35: 'value' attribute required for INFO elements [astropy.io.votable.tree]\n",
      "WARNING: W35: http://vospace.esac.esa.int/vospace/sh/9da5bd4b841f4032ee3f94e2f357067a554434?dl=1:13:0: W35: 'value' attribute required for INFO elements [astropy.io.votable.tree]\n",
      "WARNING: W35: http://vospace.esac.esa.int/vospace/sh/9da5bd4b841f4032ee3f94e2f357067a554434?dl=1:14:0: W35: 'value' attribute required for INFO elements [astropy.io.votable.tree]\n",
      "WARNING: W35: http://vospace.esac.esa.int/vospace/sh/9da5bd4b841f4032ee3f94e2f357067a554434?dl=1:16:0: W35: 'value' attribute required for INFO elements [astropy.io.votable.tree]\n",
      "WARNING: W06: http://vospace.esac.esa.int/vospace/sh/9da5bd4b841f4032ee3f94e2f357067a554434?dl=1:52:0: W06: Invalid UCD 'arith.ratio': Secondary word 'arith.ratio' is not valid as a primary word [astropy.io.votable.tree]\n",
      "WARNING: W50: http://vospace.esac.esa.int/vospace/sh/9da5bd4b841f4032ee3f94e2f357067a554434?dl=1:55:0: W50: Invalid unit string 'mas.yr**-1' [astropy.io.votable.tree]\n",
      "WARNING: W50: http://vospace.esac.esa.int/vospace/sh/9da5bd4b841f4032ee3f94e2f357067a554434?dl=1:58:0: W50: Invalid unit string 'mas.yr**-1' [astropy.io.votable.tree]\n",
      "WARNING: W50: http://vospace.esac.esa.int/vospace/sh/9da5bd4b841f4032ee3f94e2f357067a554434?dl=1:61:0: W50: Invalid unit string 'mas.yr**-1' [astropy.io.votable.tree]\n",
      "WARNING: W50: http://vospace.esac.esa.int/vospace/sh/9da5bd4b841f4032ee3f94e2f357067a554434?dl=1:64:0: W50: Invalid unit string 'mas.yr**-1' [astropy.io.votable.tree]\n",
      "WARNING: W50: http://vospace.esac.esa.int/vospace/sh/9da5bd4b841f4032ee3f94e2f357067a554434?dl=1:127:0: W50: Invalid unit string 'mas**-2' [astropy.io.votable.tree]\n",
      "WARNING: W50: http://vospace.esac.esa.int/vospace/sh/9da5bd4b841f4032ee3f94e2f357067a554434?dl=1:130:0: W50: Invalid unit string 'um**-1' [astropy.io.votable.tree]\n",
      "WARNING: W06: http://vospace.esac.esa.int/vospace/sh/9da5bd4b841f4032ee3f94e2f357067a554434?dl=1:133:0: W06: Invalid UCD 'em.wavenumber;stat.error': Primary word 'stat.error' is not valid as a secondary word [astropy.io.votable.tree]\n",
      "WARNING: W50: http://vospace.esac.esa.int/vospace/sh/9da5bd4b841f4032ee3f94e2f357067a554434?dl=1:133:0: W50: Invalid unit string 'um**-1' [astropy.io.votable.tree]\n",
      "WARNING: W06: http://vospace.esac.esa.int/vospace/sh/9da5bd4b841f4032ee3f94e2f357067a554434?dl=1:145:0: W06: Invalid UCD 'pos.errorEllipse;stat.max': Secondary word 'pos.errorEllipse' is not valid as a primary word [astropy.io.votable.tree]\n",
      "WARNING: W50: http://vospace.esac.esa.int/vospace/sh/9da5bd4b841f4032ee3f94e2f357067a554434?dl=1:160:0: W50: Invalid unit string ''electron'.s**-1' [astropy.io.votable.tree]\n",
      "WARNING: W50: http://vospace.esac.esa.int/vospace/sh/9da5bd4b841f4032ee3f94e2f357067a554434?dl=1:163:0: W50: Invalid unit string ''electron'.s**-1' [astropy.io.votable.tree]\n",
      "WARNING: W06: http://vospace.esac.esa.int/vospace/sh/9da5bd4b841f4032ee3f94e2f357067a554434?dl=1:166:0: W06: Invalid UCD 'arith.ratio': Secondary word 'arith.ratio' is not valid as a primary word [astropy.io.votable.tree]\n",
      "WARNING: W50: http://vospace.esac.esa.int/vospace/sh/9da5bd4b841f4032ee3f94e2f357067a554434?dl=1:175:0: W50: Invalid unit string ''electron'.s**-1' (suppressing further warnings of this type...) [astropy.io.votable.tree]\n",
      "WARNING: W06: http://vospace.esac.esa.int/vospace/sh/9da5bd4b841f4032ee3f94e2f357067a554434?dl=1:181:0: W06: Invalid UCD 'arith.ratio': Secondary word 'arith.ratio' is not valid as a primary word [astropy.io.votable.tree]\n",
      "WARNING: W06: http://vospace.esac.esa.int/vospace/sh/9da5bd4b841f4032ee3f94e2f357067a554434?dl=1:196:0: W06: Invalid UCD 'arith.ratio': Secondary word 'arith.ratio' is not valid as a primary word [astropy.io.votable.tree]\n",
      "WARNING: W06: http://vospace.esac.esa.int/vospace/sh/9da5bd4b841f4032ee3f94e2f357067a554434?dl=1:208:0: W06: Invalid UCD 'phot.color': Unknown word 'phot.color' [astropy.io.votable.tree]\n",
      "WARNING: W06: http://vospace.esac.esa.int/vospace/sh/9da5bd4b841f4032ee3f94e2f357067a554434?dl=1:211:0: W06: Invalid UCD 'phot.color': Unknown word 'phot.color' [astropy.io.votable.tree]\n",
      "WARNING: W06: http://vospace.esac.esa.int/vospace/sh/9da5bd4b841f4032ee3f94e2f357067a554434?dl=1:214:0: W06: Invalid UCD 'phot.color': Unknown word 'phot.color' [astropy.io.votable.tree]\n",
      "WARNING: W06: http://vospace.esac.esa.int/vospace/sh/9da5bd4b841f4032ee3f94e2f357067a554434?dl=1:286:0: W06: Invalid UCD 'phys.size.radius;stat.error': Primary word 'stat.error' is not valid as a secondary word (suppressing further warnings of this type...) [astropy.io.votable.tree]\n"
     ]
    },
    {
     "name": "stdout",
     "output_type": "stream",
     "text": [
      "Total number of LQSO is 87\n"
     ]
    }
   ],
   "source": [
    "# read the Castle xmatch with DR2\n",
    "url1 = 'http://vospace.esac.esa.int/vospace/sh/9da5bd4b841f4032ee3f94e2f357067a554434?dl=1'\n",
    "t = Table.read(url1,format='votable')\n",
    "nt = len(t)\n",
    "# the total pm\n",
    "mu = np.sqrt(t['pmra']**2 + t['pmdec']**2)\n",
    "# propagate the errors, assuming pmra_error and pmdec_errors are uncorrelated\n",
    "mu_error = np.sqrt((t['pmra']*t['pmra_error']/mu)**2 + (t['pmdec']*t['pmdec_error']/mu)**2)\n",
    "#\n",
    "t['mu'] = mu\n",
    "t['mu_error'] = mu_error\n",
    "#\n",
    "print (\"Total number of LQSO is {}\".format(nt))\n"
   ]
  },
  {
   "cell_type": "code",
   "execution_count": 8,
   "metadata": {},
   "outputs": [
    {
     "name": "stderr",
     "output_type": "stream",
     "text": [
      "/Users/ivaltchanov/miniconda3/lib/python3.6/site-packages/numpy/lib/function_base.py:780: RuntimeWarning: invalid value encountered in greater_equal\n",
      "  keep = (tmp_a >= first_edge)\n",
      "/Users/ivaltchanov/miniconda3/lib/python3.6/site-packages/numpy/lib/function_base.py:781: RuntimeWarning: invalid value encountered in less_equal\n",
      "  keep &= (tmp_a <= last_edge)\n"
     ]
    },
    {
     "data": {
      "text/plain": [
       "(array([20., 21.,  8.,  6.,  2.,  1.,  3.,  2.,  2.,  2.]),\n",
       " array([0.01236125, 0.03630084, 0.06024043, 0.08418001, 0.1081196 ,\n",
       "        0.13205919, 0.15599877, 0.17993836, 0.20387795, 0.22781753,\n",
       "        0.25175712]),\n",
       " <a list of 10 Patch objects>)"
      ]
     },
     "execution_count": 8,
     "metadata": {},
     "output_type": "execute_result"
    },
    {
     "data": {
      "image/png": "[encoded data removed]",
      "text/plain": [
       "<Figure size 432x288 with 1 Axes>"
      ]
     },
     "metadata": {},
     "output_type": "display_data"
    }
   ],
   "source": [
    "plt.hist(t['astrometric_pseudo_colour_error'])"
   ]
  },
  {
   "cell_type": "code",
   "execution_count": 38,
   "metadata": {
    "collapsed": true
   },
   "outputs": [],
   "source": [
    "#\n",
    "# now calculate the nearest neighbour and the 3rd nearest neighbour to each source\n",
    "# using BallTree\n",
    "#\n",
    "#\n",
    "# build the tree\n",
    "#\n",
    "X = np.array([t['ra']*D2R,t['dec']*D2R]).transpose()\n",
    "# metric haversine is the distance on a sphere\n",
    "nbrs = NearestNeighbors(n_neighbors=4, algorithm='ball_tree').fit(X)\n",
    "#tree = BallTree(X,leaf_size=10,metric=\"haversine\")\n",
    "distances, indices = nbrs.kneighbors(X)"
   ]
  },
  {
   "cell_type": "code",
   "execution_count": 40,
   "metadata": {
    "collapsed": true
   },
   "outputs": [],
   "source": [
    "#\n",
    "# add the distances to the nearest 3 neighbours in table\n",
    "t[\"n1\"] = distances[:,1]\n",
    "t[\"n2\"] = distances[:,2]\n",
    "t[\"n3\"] = distances[:,3]\n",
    "#"
   ]
  },
  {
   "cell_type": "markdown",
   "metadata": {},
   "source": [
    "## Machine learning approach\n",
    "\n",
    "Will try different methods to learn from the LQSO and apply it to the simulated catalogue\n"
   ]
  },
  {
   "cell_type": "code",
   "execution_count": 44,
   "metadata": {
    "collapsed": true
   },
   "outputs": [],
   "source": [
    "X = np.array([t[\"mu\"],t[\"mu_error\"],t[\"parallax\"],t[\"parallax_error\"],t[\"astrometric_pseudo_colour\"],\\\n",
    "              t[\"n1\"],t[\"n2\"],t[\"n3\"]]).transpose()\n",
    "#\n",
    "# the shape should be (n_samples, n_features)\n",
    "y = np.zeros(nt,dtype=np.uint8)\n",
    "y[i_lqso] = 1"
   ]
  },
  {
   "cell_type": "code",
   "execution_count": 46,
   "metadata": {},
   "outputs": [
    {
     "name": "stdout",
     "output_type": "stream",
     "text": [
      "Results after 100 random selections of 100 LQSO, 1000 QSO and 1000 STARs\n",
      "LQSO classified as LQSO: 236.03, (90.8 %)\n",
      "QSO classified as LQSO: 2534.4, (0.6 %)\n",
      "STARs classified as LQSO: 85.59, (0.4 %)\n"
     ]
    }
   ],
   "source": [
    "# run multiple times (10) with subsets of 1000 QSO and STAR sources\n",
    "#\n",
    "# make a small subset, use all LQSO but just 1000 QSO and 1000 STAR, random select 1000 indices\n",
    "#\n",
    "nruns = 100\n",
    "nr_lqso = 100\n",
    "nr_qso = 1000\n",
    "nr_star = 1000\n",
    "nx1 = []\n",
    "nx2 = []\n",
    "nx3 = []\n",
    "for jrun in np.arange(nruns):\n",
    "    isub = np.hstack([np.random.choice(i_lqso,size=nr_lqso),np.random.choice(i_qso,size=nr_qso),np.random.choice(i_star,size=nr_star)])\n",
    "    Xp = X[isub,:]\n",
    "    yp = y[isub]\n",
    "    #clf = svm.SVC()\n",
    "    clf = tree.DecisionTreeClassifier()\n",
    "    clf.fit(Xp, yp)\n",
    "    nx1.append(len(np.where(clf.predict(X[i_lqso,:]) == 1)[0]))\n",
    "    nx2.append(len(np.where(clf.predict(X[i_qso,:]) == 1)[0]))\n",
    "    nx3.append(len(np.where(clf.predict(X[i_star,:]) == 1)[0]))\n",
    "    pass\n",
    "print (\"Results after {} random selections of {} LQSO, {} QSO and {} STARs\".format(nruns,nr_lqso,nr_qso,nr_star))\n",
    "print (\"LQSO classified as LQSO: {}, ({:.1f} %)\".format(np.mean(nx1),100*np.mean(nx1)/nlens))\n",
    "print (\"QSO classified as LQSO: {}, ({:.1f} %)\".format(np.mean(nx2),100*np.mean(nx2)/nqso))\n",
    "print (\"STARs classified as LQSO: {}, ({:.1f} %)\".format(np.mean(nx3),100*np.mean(nx3)/nstar))\n"
   ]
  },
  {
   "cell_type": "code",
   "execution_count": null,
   "metadata": {
    "collapsed": true
   },
   "outputs": [],
   "source": []
  },
  {
   "cell_type": "code",
   "execution_count": null,
   "metadata": {
    "collapsed": true
   },
   "outputs": [],
   "source": []
  }
 ],
 "metadata": {
  "kernelspec": {
   "display_name": "Python 3",
   "language": "python",
   "name": "python3"
  },
  "language_info": {
   "codemirror_mode": {
    "name": "ipython",
    "version": 3
   },
   "file_extension": ".py",
   "mimetype": "text/x-python",
   "name": "python",
   "nbconvert_exporter": "python",
   "pygments_lexer": "ipython3",
   "version": "3.6.0"
  }
 },
 "nbformat": 4,
 "nbformat_minor": 2
}
