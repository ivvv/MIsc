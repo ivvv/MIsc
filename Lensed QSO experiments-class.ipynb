{
 "cells": [
  {
   "cell_type": "markdown",
   "metadata": {},
   "source": [
    "# Lensed QSO experiements with simulations\n",
    "\n",
    "Based on simulated Gaia catalogue with QSO and lenses produced by Alex Bombrun.\n",
    "\n",
    "Trying with machine learning classification.\n",
    "\n",
    "The idea is to use the following set of _features_ for each LQSO:\n",
    "* the total proper motion and its error\n",
    "* the total parallax and its error\n",
    "* the astrometric colour\n",
    "* the distances to the nearest 3 neighbours.\n",
    "\n",
    "This makes 6 _features_ to feed to the SVM/PCA classification.\n"
   ]
  },
  {
   "cell_type": "code",
   "execution_count": 33,
   "metadata": {},
   "outputs": [],
   "source": [
    "import os\n",
    "import numpy as np\n",
    "\n",
    "from astropy.table import Table\n",
    "\n",
    "import matplotlib.pyplot as plt\n",
    "%matplotlib inline\n",
    "\n",
    "from astropy.coordinates import SkyCoord \n",
    "import astropy.units as u\n",
    "\n",
    "from sklearn.neighbors import NearestNeighbors\n",
    "from sklearn import svm, tree\n",
    "#from IPython.display import Math\n",
    "\n",
    "D2R = np.pi/180.0\n",
    "\n",
    "wdir = os.path.expanduser('~') + '/Dropbox/Work/Gaia-QSO'"
   ]
  },
  {
   "cell_type": "code",
   "execution_count": 6,
   "metadata": {},
   "outputs": [
    {
     "name": "stdout",
     "output_type": "stream",
     "text": [
      "Out of 418012 entries in the table, 260 are with type lens (LQSO)\n",
      "Out of 418012 entries in the table, 393907 are with type QSO\n",
      "Out of 418012 entries in the table, 23845 are with type STAR\n"
     ]
    }
   ],
   "source": [
    "# read the simulated catalogue\n",
    "t = Table.read('{}/simDataSet1.csv.gzip'.format(wdir),format='ascii.csv')\n",
    "nt = len(t)\n",
    "# the total pm\n",
    "mu = np.sqrt(t['pmra']**2 + t['pmdec']**2)\n",
    "# propagate the errors, assuming pmra_error and pmdec_errors are uncorrelated\n",
    "mu_error = np.sqrt((t['pmra']*t['pmra_error']/mu)**2 + (t['pmdec']*t['pmdec_error']/mu)**2)\n",
    "#\n",
    "t['mu'] = mu\n",
    "t['mu_error'] = mu_error\n",
    "#\n",
    "# now check how many are type 'Lensed QSO'\n",
    "i_lqso = np.where(t['type'] == 'LQSO')[0]\n",
    "tlens = t[i_lqso]\n",
    "nlens = len(tlens)\n",
    "#\n",
    "i_qso = np.where(t['type'] == 'QSO')[0]\n",
    "tqso = t[i_qso]\n",
    "nqso = len(tqso)\n",
    "#\n",
    "i_star = np.where(t['type'] == 'STAR')[0]\n",
    "tstar = t[i_star]\n",
    "nstar = len(tstar)\n",
    "print (\"Out of {} entries in the table, {} are with type lens (LQSO)\".format(nt,nlens))\n",
    "print (\"Out of {} entries in the table, {} are with type QSO\".format(nt,nqso))\n",
    "print (\"Out of {} entries in the table, {} are with type STAR\".format(nt,nstar))"
   ]
  },
  {
   "cell_type": "code",
   "execution_count": 38,
   "metadata": {},
   "outputs": [],
   "source": [
    "#\n",
    "# now calculate the nearest neighbour and the 3rd nearest neighbour to each source\n",
    "# using BallTree\n",
    "#\n",
    "#\n",
    "# build the tree\n",
    "#\n",
    "X = np.array([t['ra']*D2R,t['dec']*D2R]).transpose()\n",
    "# metric haversine is the distance on a sphere\n",
    "nbrs = NearestNeighbors(n_neighbors=4, algorithm='ball_tree').fit(X)\n",
    "#tree = BallTree(X,leaf_size=10,metric=\"haversine\")\n",
    "distances, indices = nbrs.kneighbors(X)"
   ]
  },
  {
   "cell_type": "code",
   "execution_count": 40,
   "metadata": {},
   "outputs": [],
   "source": [
    "#\n",
    "# add the distances to the nearest 3 neighbours in table\n",
    "t[\"n1\"] = distances[:,1]\n",
    "t[\"n2\"] = distances[:,2]\n",
    "t[\"n3\"] = distances[:,3]\n",
    "#"
   ]
  },
  {
   "cell_type": "markdown",
   "metadata": {},
   "source": [
    "## Machine learning approach\n",
    "\n",
    "Will try different methods to learn from the LQSO and apply it to the simulated catalogue\n"
   ]
  },
  {
   "cell_type": "code",
   "execution_count": 44,
   "metadata": {},
   "outputs": [],
   "source": [
    "X = np.array([t[\"mu\"],t[\"mu_error\"],t[\"parallax\"],t[\"parallax_error\"],t[\"astrometric_pseudo_colour\"],\\\n",
    "              t[\"n1\"],t[\"n2\"],t[\"n3\"]]).transpose()\n",
    "#\n",
    "# the shape should be (n_samples, n_features)\n",
    "y = np.zeros(nt,dtype=np.uint8)\n",
    "y[i_lqso] = 1"
   ]
  },
  {
   "cell_type": "code",
   "execution_count": 46,
   "metadata": {},
   "outputs": [
    {
     "name": "stdout",
     "output_type": "stream",
     "text": [
      "Results after 100 random selections of 100 LQSO, 1000 QSO and 1000 STARs\n",
      "LQSO classified as LQSO: 236.03, (90.8 %)\n",
      "QSO classified as LQSO: 2534.4, (0.6 %)\n",
      "STARs classified as LQSO: 85.59, (0.4 %)\n"
     ]
    }
   ],
   "source": [
    "# run multiple times (10) with subsets of 1000 QSO and STAR sources\n",
    "#\n",
    "# make a small subset, use all LQSO but just 1000 QSO and 1000 STAR, random select 1000 indices\n",
    "#\n",
    "nruns = 100\n",
    "nr_lqso = 100\n",
    "nr_qso = 1000\n",
    "nr_star = 1000\n",
    "nx1 = []\n",
    "nx2 = []\n",
    "nx3 = []\n",
    "for jrun in np.arange(nruns):\n",
    "    isub = np.hstack([np.random.choice(i_lqso,size=nr_lqso),np.random.choice(i_qso,size=nr_qso),np.random.choice(i_star,size=nr_star)])\n",
    "    Xp = X[isub,:]\n",
    "    yp = y[isub]\n",
    "    #clf = svm.SVC()\n",
    "    clf = tree.DecisionTreeClassifier()\n",
    "    clf.fit(Xp, yp)\n",
    "    nx1.append(len(np.where(clf.predict(X[i_lqso,:]) == 1)[0]))\n",
    "    nx2.append(len(np.where(clf.predict(X[i_qso,:]) == 1)[0]))\n",
    "    nx3.append(len(np.where(clf.predict(X[i_star,:]) == 1)[0]))\n",
    "    pass\n",
    "print (\"Results after {} random selections of {} LQSO, {} QSO and {} STARs\".format(nruns,nr_lqso,nr_qso,nr_star))\n",
    "print (\"LQSO classified as LQSO: {}, ({:.1f} %)\".format(np.mean(nx1),100*np.mean(nx1)/nlens))\n",
    "print (\"QSO classified as LQSO: {}, ({:.1f} %)\".format(np.mean(nx2),100*np.mean(nx2)/nqso))\n",
    "print (\"STARs classified as LQSO: {}, ({:.1f} %)\".format(np.mean(nx3),100*np.mean(nx3)/nstar))\n"
   ]
  },
  {
   "cell_type": "code",
   "execution_count": null,
   "metadata": {},
   "outputs": [],
   "source": []
  },
  {
   "cell_type": "code",
   "execution_count": null,
   "metadata": {},
   "outputs": [],
   "source": []
  }
 ],
 "metadata": {
  "kernelspec": {
   "display_name": "Python 3",
   "language": "python",
   "name": "python3"
  },
  "language_info": {
   "codemirror_mode": {
    "name": "ipython",
    "version": 3
   },
   "file_extension": ".py",
   "mimetype": "text/x-python",
   "name": "python",
   "nbconvert_exporter": "python",
   "pygments_lexer": "ipython3",
   "version": "3.6.3"
  }
 },
 "nbformat": 4,
 "nbformat_minor": 2
}
